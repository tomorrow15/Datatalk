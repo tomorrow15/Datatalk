{
 "cells": [
  {
   "cell_type": "code",
   "execution_count": 1,
   "id": "869e927e",
   "metadata": {},
   "outputs": [],
   "source": [
    "import pandas as pd \n",
    "import numpy as np\n",
    "import matplotlib.pyplot as plt\n",
    "import seaborn as sns \n",
    "import pickle"
   ]
  },
  {
   "cell_type": "code",
   "execution_count": 2,
   "id": "74254174",
   "metadata": {},
   "outputs": [],
   "source": [
    "from sklearn.model_selection import train_test_split\n",
    "from sklearn.metrics import mutual_info_score\n",
    "from sklearn.preprocessing import MinMaxScaler,StandardScaler\n",
    "from sklearn.feature_extraction import DictVectorizer\n",
    "from sklearn.linear_model import LogisticRegression\n",
    "from sklearn.metrics import roc_auc_score\n",
    "from sklearn.metrics import accuracy_score\n",
    "from sklearn.model_selection import KFold\n",
    "from sklearn.tree import DecisionTreeClassifier\n",
    "from sklearn.ensemble import RandomForestClassifier\n",
    "from sklearn.preprocessing import KBinsDiscretizer, LabelEncoder\n",
    "import xgboost as xgb"
   ]
  },
  {
   "cell_type": "code",
   "execution_count": 3,
   "id": "73d86ccb",
   "metadata": {},
   "outputs": [],
   "source": [
    "raw_df = pd.read_csv('heart.csv')"
   ]
  },
  {
   "cell_type": "code",
   "execution_count": 4,
   "id": "84c2d679",
   "metadata": {
    "scrolled": false
   },
   "outputs": [
    {
     "data": {
      "text/plain": [
       "(918, 12)"
      ]
     },
     "execution_count": 4,
     "metadata": {},
     "output_type": "execute_result"
    }
   ],
   "source": [
    "raw_df.shape"
   ]
  },
  {
   "cell_type": "code",
   "execution_count": null,
   "id": "c34ca881",
   "metadata": {},
   "outputs": [],
   "source": [
    "Ext"
   ]
  },
  {
   "cell_type": "code",
   "execution_count": 5,
   "id": "c688312f",
   "metadata": {},
   "outputs": [],
   "source": [
    "raw_df.columns = raw_df.columns.str.lower()"
   ]
  },
  {
   "cell_type": "code",
   "execution_count": 6,
   "id": "6d53aff9",
   "metadata": {
    "scrolled": true
   },
   "outputs": [
    {
     "data": {
      "text/plain": [
       "Index(['age', 'sex', 'chestpaintype', 'restingbp', 'cholesterol', 'fastingbs',\n",
       "       'restingecg', 'maxhr', 'exerciseangina', 'oldpeak', 'st_slope',\n",
       "       'heartdisease'],\n",
       "      dtype='object')"
      ]
     },
     "execution_count": 6,
     "metadata": {},
     "output_type": "execute_result"
    }
   ],
   "source": [
    "raw_df.columns "
   ]
  },
  {
   "cell_type": "code",
   "execution_count": 7,
   "id": "59f577d3",
   "metadata": {
    "scrolled": true
   },
   "outputs": [
    {
     "data": {
      "text/plain": [
       "age               0\n",
       "sex               0\n",
       "chestpaintype     0\n",
       "restingbp         0\n",
       "cholesterol       0\n",
       "fastingbs         0\n",
       "restingecg        0\n",
       "maxhr             0\n",
       "exerciseangina    0\n",
       "oldpeak           0\n",
       "st_slope          0\n",
       "heartdisease      0\n",
       "dtype: int64"
      ]
     },
     "execution_count": 7,
     "metadata": {},
     "output_type": "execute_result"
    }
   ],
   "source": [
    "raw_df.isnull().sum()"
   ]
  },
  {
   "cell_type": "code",
   "execution_count": 8,
   "id": "96337564",
   "metadata": {
    "scrolled": true
   },
   "outputs": [
    {
     "data": {
      "text/plain": [
       "heartdisease\n",
       "1    0.553377\n",
       "0    0.446623\n",
       "Name: proportion, dtype: float64"
      ]
     },
     "execution_count": 8,
     "metadata": {},
     "output_type": "execute_result"
    }
   ],
   "source": [
    "raw_df.heartdisease.value_counts(normalize=True)"
   ]
  },
  {
   "cell_type": "code",
   "execution_count": 9,
   "id": "b9f40284",
   "metadata": {},
   "outputs": [
    {
     "data": {
      "text/plain": [
       "0.5533769063180828"
      ]
     },
     "execution_count": 9,
     "metadata": {},
     "output_type": "execute_result"
    }
   ],
   "source": [
    "raw_df.heartdisease.mean()"
   ]
  },
  {
   "cell_type": "code",
   "execution_count": 10,
   "id": "55bf14dd",
   "metadata": {},
   "outputs": [
    {
     "data": {
      "text/plain": [
       "age                50\n",
       "sex                 2\n",
       "chestpaintype       4\n",
       "restingbp          67\n",
       "cholesterol       222\n",
       "fastingbs           2\n",
       "restingecg          3\n",
       "maxhr             119\n",
       "exerciseangina      2\n",
       "oldpeak            53\n",
       "st_slope            3\n",
       "heartdisease        2\n",
       "dtype: int64"
      ]
     },
     "execution_count": 10,
     "metadata": {},
     "output_type": "execute_result"
    }
   ],
   "source": [
    "raw_df.nunique()"
   ]
  },
  {
   "cell_type": "code",
   "execution_count": 11,
   "id": "370b271d",
   "metadata": {},
   "outputs": [
    {
     "data": {
      "text/plain": [
       "age\n",
       "54    51\n",
       "58    42\n",
       "55    41\n",
       "56    38\n",
       "57    38\n",
       "52    36\n",
       "51    35\n",
       "59    35\n",
       "62    35\n",
       "53    33\n",
       "60    32\n",
       "48    31\n",
       "61    31\n",
       "63    30\n",
       "50    25\n",
       "46    24\n",
       "41    24\n",
       "43    24\n",
       "64    22\n",
       "65    21\n",
       "49    21\n",
       "47    19\n",
       "44    19\n",
       "42    18\n",
       "45    18\n",
       "38    16\n",
       "67    15\n",
       "39    15\n",
       "66    13\n",
       "69    13\n",
       "40    13\n",
       "35    11\n",
       "37    11\n",
       "68    10\n",
       "34     7\n",
       "74     7\n",
       "70     7\n",
       "36     6\n",
       "71     5\n",
       "32     5\n",
       "72     4\n",
       "29     3\n",
       "75     3\n",
       "33     2\n",
       "77     2\n",
       "76     2\n",
       "31     2\n",
       "30     1\n",
       "28     1\n",
       "73     1\n",
       "Name: count, dtype: int64"
      ]
     },
     "execution_count": 11,
     "metadata": {},
     "output_type": "execute_result"
    }
   ],
   "source": [
    "raw_df.age.value_counts()"
   ]
  },
  {
   "cell_type": "markdown",
   "id": "e60d3b1d",
   "metadata": {},
   "source": [
    "# Data Scaling "
   ]
  },
  {
   "cell_type": "code",
   "execution_count": 12,
   "id": "62674842",
   "metadata": {},
   "outputs": [
    {
     "data": {
      "text/html": [
       "<div>\n",
       "<style scoped>\n",
       "    .dataframe tbody tr th:only-of-type {\n",
       "        vertical-align: middle;\n",
       "    }\n",
       "\n",
       "    .dataframe tbody tr th {\n",
       "        vertical-align: top;\n",
       "    }\n",
       "\n",
       "    .dataframe thead th {\n",
       "        text-align: right;\n",
       "    }\n",
       "</style>\n",
       "<table border=\"1\" class=\"dataframe\">\n",
       "  <thead>\n",
       "    <tr style=\"text-align: right;\">\n",
       "      <th></th>\n",
       "      <th>age</th>\n",
       "      <th>sex</th>\n",
       "      <th>chestpaintype</th>\n",
       "      <th>restingbp</th>\n",
       "      <th>cholesterol</th>\n",
       "      <th>fastingbs</th>\n",
       "      <th>restingecg</th>\n",
       "      <th>maxhr</th>\n",
       "      <th>exerciseangina</th>\n",
       "      <th>oldpeak</th>\n",
       "      <th>st_slope</th>\n",
       "      <th>heartdisease</th>\n",
       "    </tr>\n",
       "  </thead>\n",
       "  <tbody>\n",
       "    <tr>\n",
       "      <th>0</th>\n",
       "      <td>-1.433140</td>\n",
       "      <td>M</td>\n",
       "      <td>ATA</td>\n",
       "      <td>0.410909</td>\n",
       "      <td>0.825070</td>\n",
       "      <td>0</td>\n",
       "      <td>Normal</td>\n",
       "      <td>1.382928</td>\n",
       "      <td>N</td>\n",
       "      <td>0.295455</td>\n",
       "      <td>Up</td>\n",
       "      <td>0</td>\n",
       "    </tr>\n",
       "    <tr>\n",
       "      <th>1</th>\n",
       "      <td>-0.478484</td>\n",
       "      <td>F</td>\n",
       "      <td>NAP</td>\n",
       "      <td>1.491752</td>\n",
       "      <td>-0.171961</td>\n",
       "      <td>0</td>\n",
       "      <td>Normal</td>\n",
       "      <td>0.754157</td>\n",
       "      <td>N</td>\n",
       "      <td>0.409091</td>\n",
       "      <td>Flat</td>\n",
       "      <td>1</td>\n",
       "    </tr>\n",
       "    <tr>\n",
       "      <th>2</th>\n",
       "      <td>-1.751359</td>\n",
       "      <td>M</td>\n",
       "      <td>ATA</td>\n",
       "      <td>-0.129513</td>\n",
       "      <td>0.770188</td>\n",
       "      <td>0</td>\n",
       "      <td>ST</td>\n",
       "      <td>-1.525138</td>\n",
       "      <td>N</td>\n",
       "      <td>0.295455</td>\n",
       "      <td>Up</td>\n",
       "      <td>0</td>\n",
       "    </tr>\n",
       "    <tr>\n",
       "      <th>3</th>\n",
       "      <td>-0.584556</td>\n",
       "      <td>F</td>\n",
       "      <td>ASY</td>\n",
       "      <td>0.302825</td>\n",
       "      <td>0.139040</td>\n",
       "      <td>0</td>\n",
       "      <td>Normal</td>\n",
       "      <td>-1.132156</td>\n",
       "      <td>Y</td>\n",
       "      <td>0.465909</td>\n",
       "      <td>Flat</td>\n",
       "      <td>1</td>\n",
       "    </tr>\n",
       "    <tr>\n",
       "      <th>4</th>\n",
       "      <td>0.051881</td>\n",
       "      <td>M</td>\n",
       "      <td>NAP</td>\n",
       "      <td>0.951331</td>\n",
       "      <td>-0.034755</td>\n",
       "      <td>0</td>\n",
       "      <td>Normal</td>\n",
       "      <td>-0.581981</td>\n",
       "      <td>N</td>\n",
       "      <td>0.295455</td>\n",
       "      <td>Up</td>\n",
       "      <td>0</td>\n",
       "    </tr>\n",
       "  </tbody>\n",
       "</table>\n",
       "</div>"
      ],
      "text/plain": [
       "        age sex chestpaintype  restingbp  cholesterol  fastingbs restingecg  \\\n",
       "0 -1.433140   M           ATA   0.410909     0.825070          0     Normal   \n",
       "1 -0.478484   F           NAP   1.491752    -0.171961          0     Normal   \n",
       "2 -1.751359   M           ATA  -0.129513     0.770188          0         ST   \n",
       "3 -0.584556   F           ASY   0.302825     0.139040          0     Normal   \n",
       "4  0.051881   M           NAP   0.951331    -0.034755          0     Normal   \n",
       "\n",
       "      maxhr exerciseangina   oldpeak st_slope  heartdisease  \n",
       "0  1.382928              N  0.295455       Up             0  \n",
       "1  0.754157              N  0.409091     Flat             1  \n",
       "2 -1.525138              N  0.295455       Up             0  \n",
       "3 -1.132156              Y  0.465909     Flat             1  \n",
       "4 -0.581981              N  0.295455       Up             0  "
      ]
     },
     "execution_count": 12,
     "metadata": {},
     "output_type": "execute_result"
    }
   ],
   "source": [
    "\n",
    "mms = MinMaxScaler() # Normalization\n",
    "ss = StandardScaler() # Standardization\n",
    "\n",
    "raw_df['oldpeak'] = mms.fit_transform(raw_df[['oldpeak']])\n",
    "raw_df['age'] = ss.fit_transform(raw_df[['age']])\n",
    "raw_df['restingbp'] = ss.fit_transform(raw_df[['restingbp']])\n",
    "raw_df['cholesterol'] = ss.fit_transform(raw_df[['cholesterol']])\n",
    "raw_df['maxhr'] = ss.fit_transform(raw_df[['maxhr']])\n",
    "raw_df.head()"
   ]
  },
  {
   "cell_type": "markdown",
   "id": "842b9480",
   "metadata": {},
   "source": [
    "# Feature Analysis "
   ]
  },
  {
   "cell_type": "code",
   "execution_count": 13,
   "id": "a87597ed",
   "metadata": {},
   "outputs": [],
   "source": [
    "df_full_train, df_test = train_test_split(raw_df, test_size=0.2, random_state=1)\n",
    "df_train, df_val = train_test_split(df_full_train, test_size=0.25, random_state=1)"
   ]
  },
  {
   "cell_type": "code",
   "execution_count": 14,
   "id": "47b348fb",
   "metadata": {},
   "outputs": [
    {
     "data": {
      "text/plain": [
       "(550, 184, 184)"
      ]
     },
     "execution_count": 14,
     "metadata": {},
     "output_type": "execute_result"
    }
   ],
   "source": [
    "len(df_train), len(df_val), len(df_test)"
   ]
  },
  {
   "cell_type": "code",
   "execution_count": 15,
   "id": "bacaf696",
   "metadata": {},
   "outputs": [],
   "source": [
    "df_train = df_train.reset_index(drop=True)\n",
    "df_val = df_val.reset_index(drop=True)\n",
    "df_test = df_test.reset_index(drop=True)"
   ]
  },
  {
   "cell_type": "code",
   "execution_count": 16,
   "id": "339bf4ff",
   "metadata": {},
   "outputs": [],
   "source": [
    "y_train = df_train.heartdisease .values\n",
    "y_val = df_val.heartdisease.values\n",
    "y_test = df_test.heartdisease.values\n",
    "\n",
    "del df_train['heartdisease']\n",
    "del df_val['heartdisease']\n",
    "del df_test['heartdisease']"
   ]
  },
  {
   "cell_type": "code",
   "execution_count": 17,
   "id": "57e2c4f0",
   "metadata": {
    "scrolled": true
   },
   "outputs": [
    {
     "data": {
      "text/html": [
       "<div>\n",
       "<style scoped>\n",
       "    .dataframe tbody tr th:only-of-type {\n",
       "        vertical-align: middle;\n",
       "    }\n",
       "\n",
       "    .dataframe tbody tr th {\n",
       "        vertical-align: top;\n",
       "    }\n",
       "\n",
       "    .dataframe thead th {\n",
       "        text-align: right;\n",
       "    }\n",
       "</style>\n",
       "<table border=\"1\" class=\"dataframe\">\n",
       "  <thead>\n",
       "    <tr style=\"text-align: right;\">\n",
       "      <th></th>\n",
       "      <th>age</th>\n",
       "      <th>sex</th>\n",
       "      <th>chestpaintype</th>\n",
       "      <th>restingbp</th>\n",
       "      <th>cholesterol</th>\n",
       "      <th>fastingbs</th>\n",
       "      <th>restingecg</th>\n",
       "      <th>maxhr</th>\n",
       "      <th>exerciseangina</th>\n",
       "      <th>oldpeak</th>\n",
       "      <th>st_slope</th>\n",
       "      <th>heartdisease</th>\n",
       "    </tr>\n",
       "  </thead>\n",
       "  <tbody>\n",
       "    <tr>\n",
       "      <th>852</th>\n",
       "      <td>-1.114921</td>\n",
       "      <td>M</td>\n",
       "      <td>ASY</td>\n",
       "      <td>-0.669935</td>\n",
       "      <td>-0.199402</td>\n",
       "      <td>0</td>\n",
       "      <td>LVH</td>\n",
       "      <td>-0.660578</td>\n",
       "      <td>Y</td>\n",
       "      <td>0.579545</td>\n",
       "      <td>Flat</td>\n",
       "      <td>1</td>\n",
       "    </tr>\n",
       "    <tr>\n",
       "      <th>121</th>\n",
       "      <td>-0.160265</td>\n",
       "      <td>F</td>\n",
       "      <td>NAP</td>\n",
       "      <td>-0.399724</td>\n",
       "      <td>0.669570</td>\n",
       "      <td>0</td>\n",
       "      <td>Normal</td>\n",
       "      <td>0.086088</td>\n",
       "      <td>N</td>\n",
       "      <td>0.295455</td>\n",
       "      <td>Up</td>\n",
       "      <td>0</td>\n",
       "    </tr>\n",
       "    <tr>\n",
       "      <th>664</th>\n",
       "      <td>1.218683</td>\n",
       "      <td>F</td>\n",
       "      <td>ASY</td>\n",
       "      <td>0.951331</td>\n",
       "      <td>0.239657</td>\n",
       "      <td>0</td>\n",
       "      <td>LVH</td>\n",
       "      <td>-0.896367</td>\n",
       "      <td>N</td>\n",
       "      <td>0.409091</td>\n",
       "      <td>Flat</td>\n",
       "      <td>1</td>\n",
       "    </tr>\n",
       "    <tr>\n",
       "      <th>187</th>\n",
       "      <td>-1.327067</td>\n",
       "      <td>M</td>\n",
       "      <td>ASY</td>\n",
       "      <td>-0.669935</td>\n",
       "      <td>0.349422</td>\n",
       "      <td>1</td>\n",
       "      <td>Normal</td>\n",
       "      <td>0.046790</td>\n",
       "      <td>Y</td>\n",
       "      <td>0.409091</td>\n",
       "      <td>Flat</td>\n",
       "      <td>1</td>\n",
       "    </tr>\n",
       "    <tr>\n",
       "      <th>108</th>\n",
       "      <td>-0.372411</td>\n",
       "      <td>M</td>\n",
       "      <td>ASY</td>\n",
       "      <td>0.410909</td>\n",
       "      <td>-0.638462</td>\n",
       "      <td>0</td>\n",
       "      <td>Normal</td>\n",
       "      <td>-0.071105</td>\n",
       "      <td>N</td>\n",
       "      <td>0.295455</td>\n",
       "      <td>Up</td>\n",
       "      <td>0</td>\n",
       "    </tr>\n",
       "  </tbody>\n",
       "</table>\n",
       "</div>"
      ],
      "text/plain": [
       "          age sex chestpaintype  restingbp  cholesterol  fastingbs restingecg  \\\n",
       "852 -1.114921   M           ASY  -0.669935    -0.199402          0        LVH   \n",
       "121 -0.160265   F           NAP  -0.399724     0.669570          0     Normal   \n",
       "664  1.218683   F           ASY   0.951331     0.239657          0        LVH   \n",
       "187 -1.327067   M           ASY  -0.669935     0.349422          1     Normal   \n",
       "108 -0.372411   M           ASY   0.410909    -0.638462          0     Normal   \n",
       "\n",
       "        maxhr exerciseangina   oldpeak st_slope  heartdisease  \n",
       "852 -0.660578              Y  0.579545     Flat             1  \n",
       "121  0.086088              N  0.295455       Up             0  \n",
       "664 -0.896367              N  0.409091     Flat             1  \n",
       "187  0.046790              Y  0.409091     Flat             1  \n",
       "108 -0.071105              N  0.295455       Up             0  "
      ]
     },
     "execution_count": 17,
     "metadata": {},
     "output_type": "execute_result"
    }
   ],
   "source": [
    "df_full_train.head(5)"
   ]
  },
  {
   "cell_type": "code",
   "execution_count": 18,
   "id": "16bd9210",
   "metadata": {},
   "outputs": [
    {
     "data": {
      "text/plain": [
       "heartdisease\n",
       "1    398\n",
       "0    336\n",
       "Name: count, dtype: int64"
      ]
     },
     "execution_count": 18,
     "metadata": {},
     "output_type": "execute_result"
    }
   ],
   "source": [
    "df_full_train.heartdisease.value_counts()"
   ]
  },
  {
   "cell_type": "code",
   "execution_count": 19,
   "id": "28194c20",
   "metadata": {},
   "outputs": [
    {
     "data": {
      "text/plain": [
       "['age',\n",
       " 'sex',\n",
       " 'chestpaintype',\n",
       " 'restingbp',\n",
       " 'cholesterol',\n",
       " 'fastingbs',\n",
       " 'restingecg',\n",
       " 'maxhr',\n",
       " 'exerciseangina',\n",
       " 'oldpeak',\n",
       " 'st_slope']"
      ]
     },
     "execution_count": 19,
     "metadata": {},
     "output_type": "execute_result"
    }
   ],
   "source": [
    "mutual_col = list(df_train.columns)\n",
    "mutual_col"
   ]
  },
  {
   "cell_type": "markdown",
   "id": "d1d5ee23",
   "metadata": {},
   "source": [
    "# Convert qualitative data to quantitative"
   ]
  },
  {
   "cell_type": "code",
   "execution_count": 20,
   "id": "71887265",
   "metadata": {},
   "outputs": [
    {
     "data": {
      "text/plain": [
       "['sex', 'chestpaintype', 'restingecg', 'exerciseangina', 'st_slope']"
      ]
     },
     "execution_count": 20,
     "metadata": {},
     "output_type": "execute_result"
    }
   ],
   "source": [
    "categorical_columns = list(df_full_train.dtypes[df_full_train.dtypes == 'object'].index)\n",
    "categorical_columns"
   ]
  },
  {
   "cell_type": "code",
   "execution_count": 21,
   "id": "7db10ba0",
   "metadata": {
    "scrolled": true
   },
   "outputs": [
    {
     "data": {
      "text/plain": [
       "['age',\n",
       " 'restingbp',\n",
       " 'cholesterol',\n",
       " 'fastingbs',\n",
       " 'maxhr',\n",
       " 'oldpeak',\n",
       " 'heartdisease']"
      ]
     },
     "execution_count": 21,
     "metadata": {},
     "output_type": "execute_result"
    }
   ],
   "source": [
    "numerical_columns = list(df_full_train.dtypes[df_full_train.dtypes != 'object'].index)\n",
    "numerical_columns"
   ]
  },
  {
   "cell_type": "code",
   "execution_count": 22,
   "id": "16b45a40",
   "metadata": {
    "scrolled": true
   },
   "outputs": [
    {
     "data": {
      "text/html": [
       "<div>\n",
       "<style scoped>\n",
       "    .dataframe tbody tr th:only-of-type {\n",
       "        vertical-align: middle;\n",
       "    }\n",
       "\n",
       "    .dataframe tbody tr th {\n",
       "        vertical-align: top;\n",
       "    }\n",
       "\n",
       "    .dataframe thead th {\n",
       "        text-align: right;\n",
       "    }\n",
       "</style>\n",
       "<table border=\"1\" class=\"dataframe\">\n",
       "  <thead>\n",
       "    <tr style=\"text-align: right;\">\n",
       "      <th></th>\n",
       "      <th>age</th>\n",
       "      <th>sex</th>\n",
       "      <th>chestpaintype</th>\n",
       "      <th>restingbp</th>\n",
       "      <th>cholesterol</th>\n",
       "      <th>fastingbs</th>\n",
       "      <th>restingecg</th>\n",
       "      <th>maxhr</th>\n",
       "      <th>exerciseangina</th>\n",
       "      <th>oldpeak</th>\n",
       "      <th>st_slope</th>\n",
       "      <th>heartdisease</th>\n",
       "    </tr>\n",
       "  </thead>\n",
       "  <tbody>\n",
       "    <tr>\n",
       "      <th>852</th>\n",
       "      <td>-1.114921</td>\n",
       "      <td>1</td>\n",
       "      <td>0</td>\n",
       "      <td>-0.669935</td>\n",
       "      <td>-0.199402</td>\n",
       "      <td>0</td>\n",
       "      <td>0</td>\n",
       "      <td>-0.660578</td>\n",
       "      <td>1</td>\n",
       "      <td>0.579545</td>\n",
       "      <td>1</td>\n",
       "      <td>1</td>\n",
       "    </tr>\n",
       "    <tr>\n",
       "      <th>121</th>\n",
       "      <td>-0.160265</td>\n",
       "      <td>0</td>\n",
       "      <td>2</td>\n",
       "      <td>-0.399724</td>\n",
       "      <td>0.669570</td>\n",
       "      <td>0</td>\n",
       "      <td>1</td>\n",
       "      <td>0.086088</td>\n",
       "      <td>0</td>\n",
       "      <td>0.295455</td>\n",
       "      <td>2</td>\n",
       "      <td>0</td>\n",
       "    </tr>\n",
       "    <tr>\n",
       "      <th>664</th>\n",
       "      <td>1.218683</td>\n",
       "      <td>0</td>\n",
       "      <td>0</td>\n",
       "      <td>0.951331</td>\n",
       "      <td>0.239657</td>\n",
       "      <td>0</td>\n",
       "      <td>0</td>\n",
       "      <td>-0.896367</td>\n",
       "      <td>0</td>\n",
       "      <td>0.409091</td>\n",
       "      <td>1</td>\n",
       "      <td>1</td>\n",
       "    </tr>\n",
       "    <tr>\n",
       "      <th>187</th>\n",
       "      <td>-1.327067</td>\n",
       "      <td>1</td>\n",
       "      <td>0</td>\n",
       "      <td>-0.669935</td>\n",
       "      <td>0.349422</td>\n",
       "      <td>1</td>\n",
       "      <td>1</td>\n",
       "      <td>0.046790</td>\n",
       "      <td>1</td>\n",
       "      <td>0.409091</td>\n",
       "      <td>1</td>\n",
       "      <td>1</td>\n",
       "    </tr>\n",
       "    <tr>\n",
       "      <th>108</th>\n",
       "      <td>-0.372411</td>\n",
       "      <td>1</td>\n",
       "      <td>0</td>\n",
       "      <td>0.410909</td>\n",
       "      <td>-0.638462</td>\n",
       "      <td>0</td>\n",
       "      <td>1</td>\n",
       "      <td>-0.071105</td>\n",
       "      <td>0</td>\n",
       "      <td>0.295455</td>\n",
       "      <td>2</td>\n",
       "      <td>0</td>\n",
       "    </tr>\n",
       "  </tbody>\n",
       "</table>\n",
       "</div>"
      ],
      "text/plain": [
       "          age  sex  chestpaintype  restingbp  cholesterol  fastingbs  \\\n",
       "852 -1.114921    1              0  -0.669935    -0.199402          0   \n",
       "121 -0.160265    0              2  -0.399724     0.669570          0   \n",
       "664  1.218683    0              0   0.951331     0.239657          0   \n",
       "187 -1.327067    1              0  -0.669935     0.349422          1   \n",
       "108 -0.372411    1              0   0.410909    -0.638462          0   \n",
       "\n",
       "     restingecg     maxhr  exerciseangina   oldpeak  st_slope  heartdisease  \n",
       "852           0 -0.660578               1  0.579545         1             1  \n",
       "121           1  0.086088               0  0.295455         2             0  \n",
       "664           0 -0.896367               0  0.409091         1             1  \n",
       "187           1  0.046790               1  0.409091         1             1  \n",
       "108           1 -0.071105               0  0.295455         2             0  "
      ]
     },
     "execution_count": 22,
     "metadata": {},
     "output_type": "execute_result"
    }
   ],
   "source": [
    "le = LabelEncoder() \n",
    "df_full_train[categorical_columns] = df_full_train[categorical_columns].apply(lambda col: le.fit_transform(col)) \n",
    "df_full_train.head(5)"
   ]
  },
  {
   "cell_type": "code",
   "execution_count": 23,
   "id": "458b2552",
   "metadata": {
    "scrolled": true
   },
   "outputs": [
    {
     "name": "stdout",
     "output_type": "stream",
     "text": [
      "mutual score for age is 0.087\n",
      "mutual score for sex is 0.046\n",
      "mutual score for chestpaintype is 0.152\n",
      "mutual score for restingbp is 0.071\n",
      "mutual score for cholesterol is 0.26\n",
      "mutual score for fastingbs is 0.031\n",
      "mutual score for restingecg is 0.007\n",
      "mutual score for maxhr is 0.172\n",
      "mutual score for exerciseangina is 0.123\n",
      "mutual score for oldpeak is 0.132\n",
      "mutual score for st_slope is 0.184\n"
     ]
    },
    {
     "name": "stderr",
     "output_type": "stream",
     "text": [
      "C:\\Users\\mulin\\anaconda3\\envs\\ml-zoomcamp\\lib\\site-packages\\sklearn\\metrics\\cluster\\_supervised.py:66: UserWarning: Clustering metrics expects discrete values but received binary values for label, and continuous values for target\n",
      "  warnings.warn(msg, UserWarning)\n",
      "C:\\Users\\mulin\\anaconda3\\envs\\ml-zoomcamp\\lib\\site-packages\\sklearn\\metrics\\cluster\\_supervised.py:66: UserWarning: Clustering metrics expects discrete values but received binary values for label, and continuous values for target\n",
      "  warnings.warn(msg, UserWarning)\n",
      "C:\\Users\\mulin\\anaconda3\\envs\\ml-zoomcamp\\lib\\site-packages\\sklearn\\metrics\\cluster\\_supervised.py:66: UserWarning: Clustering metrics expects discrete values but received binary values for label, and continuous values for target\n",
      "  warnings.warn(msg, UserWarning)\n",
      "C:\\Users\\mulin\\anaconda3\\envs\\ml-zoomcamp\\lib\\site-packages\\sklearn\\metrics\\cluster\\_supervised.py:66: UserWarning: Clustering metrics expects discrete values but received binary values for label, and continuous values for target\n",
      "  warnings.warn(msg, UserWarning)\n",
      "C:\\Users\\mulin\\anaconda3\\envs\\ml-zoomcamp\\lib\\site-packages\\sklearn\\metrics\\cluster\\_supervised.py:66: UserWarning: Clustering metrics expects discrete values but received binary values for label, and continuous values for target\n",
      "  warnings.warn(msg, UserWarning)\n"
     ]
    }
   ],
   "source": [
    "mutual_scores = []\n",
    "for c in  df_full_train[mutual_col].columns: \n",
    "    score = round(mutual_info_score(df_full_train.heartdisease,df_full_train[c]),3)\n",
    "    mutual_scores.append(score)\n",
    "    print(f\"mutual score for {c} is {score}\")"
   ]
  },
  {
   "cell_type": "code",
   "execution_count": 24,
   "id": "82356554",
   "metadata": {
    "scrolled": true
   },
   "outputs": [
    {
     "data": {
      "image/png": "[encoded data removed]",
      "text/plain": [
       "<Figure size 640x480 with 1 Axes>"
      ]
     },
     "metadata": {},
     "output_type": "display_data"
    }
   ],
   "source": [
    "import matplotlib.pyplot as plt\n",
    "\n",
    "sorted_mutual_scores, sorted_mutual_col_names = zip(*sorted(zip(mutual_scores, mutual_col)))\n",
    "plt.bar(sorted_mutual_col_names, sorted_mutual_scores)\n",
    "plt.xlabel(\"Features\")\n",
    "plt.ylabel(\"Mutual Information Scores\")\n",
    "plt.title(\"Mutual Information Scores for Features\")\n",
    "plt.xticks(rotation='vertical')\n",
    "plt.show()"
   ]
  },
  {
   "cell_type": "markdown",
   "id": "0a81681a",
   "metadata": {},
   "source": [
    "# Feature importance: Heartdisease rate and risk ratio"
   ]
  },
  {
   "cell_type": "code",
   "execution_count": 25,
   "id": "c454708f",
   "metadata": {
    "scrolled": true
   },
   "outputs": [
    {
     "name": "stdout",
     "output_type": "stream",
     "text": [
      "Heart disease rate for sex:\n",
      "1: 0.6204506065857885\n",
      "0: 0.25477707006369427\n",
      "\n",
      "\n",
      "Heart disease rate for chestpaintype:\n",
      "0: 0.7741116751269036\n",
      "2: 0.34523809523809523\n",
      "3: 0.48717948717948717\n",
      "1: 0.12030075187969924\n",
      "\n",
      "\n",
      "Heart disease rate for restingecg:\n",
      "0: 0.5197368421052632\n",
      "1: 0.5114678899082569\n",
      "2: 0.6575342465753424\n",
      "\n",
      "\n",
      "Heart disease rate for exerciseangina:\n",
      "1: 0.8379310344827586\n",
      "0: 0.3490990990990991\n",
      "\n",
      "\n",
      "Heart disease rate for st_slope:\n",
      "1: 0.8096514745308311\n",
      "2: 0.2111801242236025\n",
      "0: 0.717948717948718\n",
      "\n",
      "\n"
     ]
    }
   ],
   "source": [
    "for column in categorical_columns:\n",
    "    unique_categories = df_full_train[column].unique() # this is important\n",
    "    print(f\"Heart disease rate for {column}:\")\n",
    "    for category in unique_categories:\n",
    "        mean = df_full_train[df_full_train[column] == category].heartdisease.mean()\n",
    "        print(f\"{category}: {mean}\")\n",
    "    print(\"\\n\")"
   ]
  },
  {
   "cell_type": "markdown",
   "id": "491ecdac",
   "metadata": {},
   "source": [
    "# Risk Ratio"
   ]
  },
  {
   "cell_type": "code",
   "execution_count": 26,
   "id": "bb4fd157",
   "metadata": {},
   "outputs": [],
   "source": [
    "global_heartdisease = df_full_train.heartdisease.mean()"
   ]
  },
  {
   "cell_type": "code",
   "execution_count": 27,
   "id": "b5343ffd",
   "metadata": {},
   "outputs": [
    {
     "name": "stdout",
     "output_type": "stream",
     "text": [
      "sex\n",
      "         mean  count      diff      risk\n",
      "sex                                     \n",
      "0    0.254777    157 -0.287457  0.469865\n",
      "1    0.620451    577  0.078216  1.144248\n",
      "\n",
      "chestpaintype\n",
      "                   mean  count      diff      risk\n",
      "chestpaintype                                     \n",
      "0              0.774112    394  0.231877  1.427633\n",
      "1              0.120301    133 -0.421934  0.221861\n",
      "2              0.345238    168 -0.196996  0.636695\n",
      "3              0.487179     39 -0.055055  0.898467\n",
      "\n",
      "restingecg\n",
      "                mean  count      diff      risk\n",
      "restingecg                                     \n",
      "0           0.519737    152 -0.022497  0.958510\n",
      "1           0.511468    436 -0.030766  0.943260\n",
      "2           0.657534    146  0.115300  1.212639\n",
      "\n",
      "exerciseangina\n",
      "                    mean  count      diff      risk\n",
      "exerciseangina                                     \n",
      "0               0.349099    444 -0.193135  0.643816\n",
      "1               0.837931    290  0.295697  1.545330\n",
      "\n",
      "st_slope\n",
      "              mean  count      diff      risk\n",
      "st_slope                                     \n",
      "0         0.717949     39  0.175714  1.324056\n",
      "1         0.809651    373  0.267417  1.493176\n",
      "2         0.211180    322 -0.331054  0.389463\n",
      "\n"
     ]
    }
   ],
   "source": [
    "for c in categorical_columns:\n",
    "    print(c)\n",
    "    df_group = df_full_train.groupby(c).heartdisease.agg(['mean', 'count'])\n",
    "    df_group['diff'] = df_group['mean'] -global_heartdisease\n",
    "    df_group['risk'] = df_group['mean'] /global_heartdisease\n",
    "    df_group\n",
    "    print(df_group)\n",
    "    print()"
   ]
  },
  {
   "cell_type": "markdown",
   "id": "08266fd8",
   "metadata": {},
   "source": [
    "# Feature importance:Correlation"
   ]
  },
  {
   "cell_type": "code",
   "execution_count": 28,
   "id": "e63dd816",
   "metadata": {},
   "outputs": [
    {
     "data": {
      "text/plain": [
       "['age',\n",
       " 'sex',\n",
       " 'chestpaintype',\n",
       " 'restingbp',\n",
       " 'cholesterol',\n",
       " 'fastingbs',\n",
       " 'restingecg',\n",
       " 'maxhr',\n",
       " 'exerciseangina',\n",
       " 'oldpeak',\n",
       " 'st_slope',\n",
       " 'heartdisease']"
      ]
     },
     "execution_count": 28,
     "metadata": {},
     "output_type": "execute_result"
    }
   ],
   "source": [
    "numeric_columns = list(df_full_train.dtypes[df_full_train.dtypes != 'object'].index)\n",
    "numeric_columns"
   ]
  },
  {
   "cell_type": "code",
   "execution_count": 29,
   "id": "ec47e390",
   "metadata": {},
   "outputs": [
    {
     "data": {
      "text/html": [
       "<div>\n",
       "<style scoped>\n",
       "    .dataframe tbody tr th:only-of-type {\n",
       "        vertical-align: middle;\n",
       "    }\n",
       "\n",
       "    .dataframe tbody tr th {\n",
       "        vertical-align: top;\n",
       "    }\n",
       "\n",
       "    .dataframe thead th {\n",
       "        text-align: right;\n",
       "    }\n",
       "</style>\n",
       "<table border=\"1\" class=\"dataframe\">\n",
       "  <thead>\n",
       "    <tr style=\"text-align: right;\">\n",
       "      <th></th>\n",
       "      <th>age</th>\n",
       "      <th>sex</th>\n",
       "      <th>chestpaintype</th>\n",
       "      <th>restingbp</th>\n",
       "      <th>cholesterol</th>\n",
       "      <th>fastingbs</th>\n",
       "      <th>restingecg</th>\n",
       "      <th>maxhr</th>\n",
       "      <th>exerciseangina</th>\n",
       "      <th>oldpeak</th>\n",
       "      <th>st_slope</th>\n",
       "      <th>heartdisease</th>\n",
       "    </tr>\n",
       "  </thead>\n",
       "  <tbody>\n",
       "    <tr>\n",
       "      <th>count</th>\n",
       "      <td>734.000000</td>\n",
       "      <td>734.000000</td>\n",
       "      <td>734.000000</td>\n",
       "      <td>734.000000</td>\n",
       "      <td>734.000000</td>\n",
       "      <td>734.000000</td>\n",
       "      <td>734.000000</td>\n",
       "      <td>734.000000</td>\n",
       "      <td>734.000000</td>\n",
       "      <td>734.000000</td>\n",
       "      <td>734.000000</td>\n",
       "      <td>734.000000</td>\n",
       "    </tr>\n",
       "    <tr>\n",
       "      <th>mean</th>\n",
       "      <td>-0.012572</td>\n",
       "      <td>0.786104</td>\n",
       "      <td>0.798365</td>\n",
       "      <td>0.007654</td>\n",
       "      <td>-0.014130</td>\n",
       "      <td>0.230245</td>\n",
       "      <td>0.991826</td>\n",
       "      <td>0.017129</td>\n",
       "      <td>0.395095</td>\n",
       "      <td>0.391566</td>\n",
       "      <td>1.385559</td>\n",
       "      <td>0.542234</td>\n",
       "    </tr>\n",
       "    <tr>\n",
       "      <th>std</th>\n",
       "      <td>0.988265</td>\n",
       "      <td>0.410334</td>\n",
       "      <td>0.968929</td>\n",
       "      <td>0.960763</td>\n",
       "      <td>1.016900</td>\n",
       "      <td>0.421277</td>\n",
       "      <td>0.637559</td>\n",
       "      <td>0.990629</td>\n",
       "      <td>0.489205</td>\n",
       "      <td>0.118581</td>\n",
       "      <td>0.586207</td>\n",
       "      <td>0.498553</td>\n",
       "    </tr>\n",
       "    <tr>\n",
       "      <th>min</th>\n",
       "      <td>-2.706015</td>\n",
       "      <td>0.000000</td>\n",
       "      <td>0.000000</td>\n",
       "      <td>-2.831621</td>\n",
       "      <td>-1.818435</td>\n",
       "      <td>0.000000</td>\n",
       "      <td>0.000000</td>\n",
       "      <td>-3.018469</td>\n",
       "      <td>0.000000</td>\n",
       "      <td>0.000000</td>\n",
       "      <td>0.000000</td>\n",
       "      <td>0.000000</td>\n",
       "    </tr>\n",
       "    <tr>\n",
       "      <th>25%</th>\n",
       "      <td>-0.690629</td>\n",
       "      <td>1.000000</td>\n",
       "      <td>0.000000</td>\n",
       "      <td>-0.669935</td>\n",
       "      <td>-0.261145</td>\n",
       "      <td>0.000000</td>\n",
       "      <td>1.000000</td>\n",
       "      <td>-0.660578</td>\n",
       "      <td>0.000000</td>\n",
       "      <td>0.295455</td>\n",
       "      <td>1.000000</td>\n",
       "      <td>0.000000</td>\n",
       "    </tr>\n",
       "    <tr>\n",
       "      <th>50%</th>\n",
       "      <td>0.051881</td>\n",
       "      <td>1.000000</td>\n",
       "      <td>0.000000</td>\n",
       "      <td>-0.129513</td>\n",
       "      <td>0.212216</td>\n",
       "      <td>0.000000</td>\n",
       "      <td>1.000000</td>\n",
       "      <td>0.105737</td>\n",
       "      <td>0.000000</td>\n",
       "      <td>0.352273</td>\n",
       "      <td>1.000000</td>\n",
       "      <td>1.000000</td>\n",
       "    </tr>\n",
       "    <tr>\n",
       "      <th>75%</th>\n",
       "      <td>0.688318</td>\n",
       "      <td>1.000000</td>\n",
       "      <td>2.000000</td>\n",
       "      <td>0.410909</td>\n",
       "      <td>0.621548</td>\n",
       "      <td>0.000000</td>\n",
       "      <td>1.000000</td>\n",
       "      <td>0.754157</td>\n",
       "      <td>1.000000</td>\n",
       "      <td>0.465909</td>\n",
       "      <td>2.000000</td>\n",
       "      <td>1.000000</td>\n",
       "    </tr>\n",
       "    <tr>\n",
       "      <th>max</th>\n",
       "      <td>2.491558</td>\n",
       "      <td>1.000000</td>\n",
       "      <td>3.000000</td>\n",
       "      <td>3.653439</td>\n",
       "      <td>3.697252</td>\n",
       "      <td>1.000000</td>\n",
       "      <td>2.000000</td>\n",
       "      <td>2.561874</td>\n",
       "      <td>1.000000</td>\n",
       "      <td>1.000000</td>\n",
       "      <td>2.000000</td>\n",
       "      <td>1.000000</td>\n",
       "    </tr>\n",
       "  </tbody>\n",
       "</table>\n",
       "</div>"
      ],
      "text/plain": [
       "              age         sex  chestpaintype   restingbp  cholesterol  \\\n",
       "count  734.000000  734.000000     734.000000  734.000000   734.000000   \n",
       "mean    -0.012572    0.786104       0.798365    0.007654    -0.014130   \n",
       "std      0.988265    0.410334       0.968929    0.960763     1.016900   \n",
       "min     -2.706015    0.000000       0.000000   -2.831621    -1.818435   \n",
       "25%     -0.690629    1.000000       0.000000   -0.669935    -0.261145   \n",
       "50%      0.051881    1.000000       0.000000   -0.129513     0.212216   \n",
       "75%      0.688318    1.000000       2.000000    0.410909     0.621548   \n",
       "max      2.491558    1.000000       3.000000    3.653439     3.697252   \n",
       "\n",
       "        fastingbs  restingecg       maxhr  exerciseangina     oldpeak  \\\n",
       "count  734.000000  734.000000  734.000000      734.000000  734.000000   \n",
       "mean     0.230245    0.991826    0.017129        0.395095    0.391566   \n",
       "std      0.421277    0.637559    0.990629        0.489205    0.118581   \n",
       "min      0.000000    0.000000   -3.018469        0.000000    0.000000   \n",
       "25%      0.000000    1.000000   -0.660578        0.000000    0.295455   \n",
       "50%      0.000000    1.000000    0.105737        0.000000    0.352273   \n",
       "75%      0.000000    1.000000    0.754157        1.000000    0.465909   \n",
       "max      1.000000    2.000000    2.561874        1.000000    1.000000   \n",
       "\n",
       "         st_slope  heartdisease  \n",
       "count  734.000000    734.000000  \n",
       "mean     1.385559      0.542234  \n",
       "std      0.586207      0.498553  \n",
       "min      0.000000      0.000000  \n",
       "25%      1.000000      0.000000  \n",
       "50%      1.000000      1.000000  \n",
       "75%      2.000000      1.000000  \n",
       "max      2.000000      1.000000  "
      ]
     },
     "execution_count": 29,
     "metadata": {},
     "output_type": "execute_result"
    }
   ],
   "source": [
    "data_numeric = df_full_train[numeric_columns]\n",
    "data_numeric.describe()"
   ]
  },
  {
   "cell_type": "code",
   "execution_count": 30,
   "id": "e955c980",
   "metadata": {
    "scrolled": true
   },
   "outputs": [
    {
     "data": {
      "text/html": [
       "<div>\n",
       "<style scoped>\n",
       "    .dataframe tbody tr th:only-of-type {\n",
       "        vertical-align: middle;\n",
       "    }\n",
       "\n",
       "    .dataframe tbody tr th {\n",
       "        vertical-align: top;\n",
       "    }\n",
       "\n",
       "    .dataframe thead th {\n",
       "        text-align: right;\n",
       "    }\n",
       "</style>\n",
       "<table border=\"1\" class=\"dataframe\">\n",
       "  <thead>\n",
       "    <tr style=\"text-align: right;\">\n",
       "      <th></th>\n",
       "      <th>age</th>\n",
       "      <th>sex</th>\n",
       "      <th>chestpaintype</th>\n",
       "      <th>restingbp</th>\n",
       "      <th>cholesterol</th>\n",
       "      <th>fastingbs</th>\n",
       "      <th>restingecg</th>\n",
       "      <th>maxhr</th>\n",
       "      <th>exerciseangina</th>\n",
       "      <th>oldpeak</th>\n",
       "      <th>st_slope</th>\n",
       "      <th>heartdisease</th>\n",
       "    </tr>\n",
       "  </thead>\n",
       "  <tbody>\n",
       "    <tr>\n",
       "      <th>age</th>\n",
       "      <td>1.000000</td>\n",
       "      <td>0.051602</td>\n",
       "      <td>-0.073285</td>\n",
       "      <td>0.254344</td>\n",
       "      <td>-0.098738</td>\n",
       "      <td>0.170208</td>\n",
       "      <td>0.036599</td>\n",
       "      <td>-0.370445</td>\n",
       "      <td>0.203901</td>\n",
       "      <td>0.263697</td>\n",
       "      <td>-0.259293</td>\n",
       "      <td>0.276919</td>\n",
       "    </tr>\n",
       "    <tr>\n",
       "      <th>sex</th>\n",
       "      <td>0.051602</td>\n",
       "      <td>1.000000</td>\n",
       "      <td>-0.105194</td>\n",
       "      <td>-0.009259</td>\n",
       "      <td>-0.217987</td>\n",
       "      <td>0.135337</td>\n",
       "      <td>0.071529</td>\n",
       "      <td>-0.196058</td>\n",
       "      <td>0.170109</td>\n",
       "      <td>0.074513</td>\n",
       "      <td>-0.121754</td>\n",
       "      <td>0.300968</td>\n",
       "    </tr>\n",
       "    <tr>\n",
       "      <th>chestpaintype</th>\n",
       "      <td>-0.073285</td>\n",
       "      <td>-0.105194</td>\n",
       "      <td>1.000000</td>\n",
       "      <td>-0.002325</td>\n",
       "      <td>0.079153</td>\n",
       "      <td>-0.036510</td>\n",
       "      <td>-0.071133</td>\n",
       "      <td>0.275328</td>\n",
       "      <td>-0.326745</td>\n",
       "      <td>-0.164917</td>\n",
       "      <td>0.189900</td>\n",
       "      <td>-0.363612</td>\n",
       "    </tr>\n",
       "    <tr>\n",
       "      <th>restingbp</th>\n",
       "      <td>0.254344</td>\n",
       "      <td>-0.009259</td>\n",
       "      <td>-0.002325</td>\n",
       "      <td>1.000000</td>\n",
       "      <td>0.089695</td>\n",
       "      <td>0.064129</td>\n",
       "      <td>0.042155</td>\n",
       "      <td>-0.091828</td>\n",
       "      <td>0.121873</td>\n",
       "      <td>0.168941</td>\n",
       "      <td>-0.095077</td>\n",
       "      <td>0.120185</td>\n",
       "    </tr>\n",
       "    <tr>\n",
       "      <th>cholesterol</th>\n",
       "      <td>-0.098738</td>\n",
       "      <td>-0.217987</td>\n",
       "      <td>0.079153</td>\n",
       "      <td>0.089695</td>\n",
       "      <td>1.000000</td>\n",
       "      <td>-0.284800</td>\n",
       "      <td>-0.201822</td>\n",
       "      <td>0.282590</td>\n",
       "      <td>-0.056488</td>\n",
       "      <td>0.041161</td>\n",
       "      <td>0.122021</td>\n",
       "      <td>-0.271679</td>\n",
       "    </tr>\n",
       "    <tr>\n",
       "      <th>fastingbs</th>\n",
       "      <td>0.170208</td>\n",
       "      <td>0.135337</td>\n",
       "      <td>-0.036510</td>\n",
       "      <td>0.064129</td>\n",
       "      <td>-0.284800</td>\n",
       "      <td>1.000000</td>\n",
       "      <td>0.103525</td>\n",
       "      <td>-0.112979</td>\n",
       "      <td>0.047853</td>\n",
       "      <td>0.053265</td>\n",
       "      <td>-0.144513</td>\n",
       "      <td>0.242690</td>\n",
       "    </tr>\n",
       "    <tr>\n",
       "      <th>restingecg</th>\n",
       "      <td>0.036599</td>\n",
       "      <td>0.071529</td>\n",
       "      <td>-0.071133</td>\n",
       "      <td>0.042155</td>\n",
       "      <td>-0.201822</td>\n",
       "      <td>0.103525</td>\n",
       "      <td>1.000000</td>\n",
       "      <td>-0.204960</td>\n",
       "      <td>0.102224</td>\n",
       "      <td>-0.021583</td>\n",
       "      <td>0.004794</td>\n",
       "      <td>0.086929</td>\n",
       "    </tr>\n",
       "    <tr>\n",
       "      <th>maxhr</th>\n",
       "      <td>-0.370445</td>\n",
       "      <td>-0.196058</td>\n",
       "      <td>0.275328</td>\n",
       "      <td>-0.091828</td>\n",
       "      <td>0.282590</td>\n",
       "      <td>-0.112979</td>\n",
       "      <td>-0.204960</td>\n",
       "      <td>1.000000</td>\n",
       "      <td>-0.381571</td>\n",
       "      <td>-0.154316</td>\n",
       "      <td>0.345433</td>\n",
       "      <td>-0.395854</td>\n",
       "    </tr>\n",
       "    <tr>\n",
       "      <th>exerciseangina</th>\n",
       "      <td>0.203901</td>\n",
       "      <td>0.170109</td>\n",
       "      <td>-0.326745</td>\n",
       "      <td>0.121873</td>\n",
       "      <td>-0.056488</td>\n",
       "      <td>0.047853</td>\n",
       "      <td>0.102224</td>\n",
       "      <td>-0.381571</td>\n",
       "      <td>1.000000</td>\n",
       "      <td>0.386767</td>\n",
       "      <td>-0.436771</td>\n",
       "      <td>0.479666</td>\n",
       "    </tr>\n",
       "    <tr>\n",
       "      <th>oldpeak</th>\n",
       "      <td>0.263697</td>\n",
       "      <td>0.074513</td>\n",
       "      <td>-0.164917</td>\n",
       "      <td>0.168941</td>\n",
       "      <td>0.041161</td>\n",
       "      <td>0.053265</td>\n",
       "      <td>-0.021583</td>\n",
       "      <td>-0.154316</td>\n",
       "      <td>0.386767</td>\n",
       "      <td>1.000000</td>\n",
       "      <td>-0.460884</td>\n",
       "      <td>0.378351</td>\n",
       "    </tr>\n",
       "    <tr>\n",
       "      <th>st_slope</th>\n",
       "      <td>-0.259293</td>\n",
       "      <td>-0.121754</td>\n",
       "      <td>0.189900</td>\n",
       "      <td>-0.095077</td>\n",
       "      <td>0.122021</td>\n",
       "      <td>-0.144513</td>\n",
       "      <td>0.004794</td>\n",
       "      <td>0.345433</td>\n",
       "      <td>-0.436771</td>\n",
       "      <td>-0.460884</td>\n",
       "      <td>1.000000</td>\n",
       "      <td>-0.529599</td>\n",
       "    </tr>\n",
       "    <tr>\n",
       "      <th>heartdisease</th>\n",
       "      <td>0.276919</td>\n",
       "      <td>0.300968</td>\n",
       "      <td>-0.363612</td>\n",
       "      <td>0.120185</td>\n",
       "      <td>-0.271679</td>\n",
       "      <td>0.242690</td>\n",
       "      <td>0.086929</td>\n",
       "      <td>-0.395854</td>\n",
       "      <td>0.479666</td>\n",
       "      <td>0.378351</td>\n",
       "      <td>-0.529599</td>\n",
       "      <td>1.000000</td>\n",
       "    </tr>\n",
       "  </tbody>\n",
       "</table>\n",
       "</div>"
      ],
      "text/plain": [
       "                     age       sex  chestpaintype  restingbp  cholesterol  \\\n",
       "age             1.000000  0.051602      -0.073285   0.254344    -0.098738   \n",
       "sex             0.051602  1.000000      -0.105194  -0.009259    -0.217987   \n",
       "chestpaintype  -0.073285 -0.105194       1.000000  -0.002325     0.079153   \n",
       "restingbp       0.254344 -0.009259      -0.002325   1.000000     0.089695   \n",
       "cholesterol    -0.098738 -0.217987       0.079153   0.089695     1.000000   \n",
       "fastingbs       0.170208  0.135337      -0.036510   0.064129    -0.284800   \n",
       "restingecg      0.036599  0.071529      -0.071133   0.042155    -0.201822   \n",
       "maxhr          -0.370445 -0.196058       0.275328  -0.091828     0.282590   \n",
       "exerciseangina  0.203901  0.170109      -0.326745   0.121873    -0.056488   \n",
       "oldpeak         0.263697  0.074513      -0.164917   0.168941     0.041161   \n",
       "st_slope       -0.259293 -0.121754       0.189900  -0.095077     0.122021   \n",
       "heartdisease    0.276919  0.300968      -0.363612   0.120185    -0.271679   \n",
       "\n",
       "                fastingbs  restingecg     maxhr  exerciseangina   oldpeak  \\\n",
       "age              0.170208    0.036599 -0.370445        0.203901  0.263697   \n",
       "sex              0.135337    0.071529 -0.196058        0.170109  0.074513   \n",
       "chestpaintype   -0.036510   -0.071133  0.275328       -0.326745 -0.164917   \n",
       "restingbp        0.064129    0.042155 -0.091828        0.121873  0.168941   \n",
       "cholesterol     -0.284800   -0.201822  0.282590       -0.056488  0.041161   \n",
       "fastingbs        1.000000    0.103525 -0.112979        0.047853  0.053265   \n",
       "restingecg       0.103525    1.000000 -0.204960        0.102224 -0.021583   \n",
       "maxhr           -0.112979   -0.204960  1.000000       -0.381571 -0.154316   \n",
       "exerciseangina   0.047853    0.102224 -0.381571        1.000000  0.386767   \n",
       "oldpeak          0.053265   -0.021583 -0.154316        0.386767  1.000000   \n",
       "st_slope        -0.144513    0.004794  0.345433       -0.436771 -0.460884   \n",
       "heartdisease     0.242690    0.086929 -0.395854        0.479666  0.378351   \n",
       "\n",
       "                st_slope  heartdisease  \n",
       "age            -0.259293      0.276919  \n",
       "sex            -0.121754      0.300968  \n",
       "chestpaintype   0.189900     -0.363612  \n",
       "restingbp      -0.095077      0.120185  \n",
       "cholesterol     0.122021     -0.271679  \n",
       "fastingbs      -0.144513      0.242690  \n",
       "restingecg      0.004794      0.086929  \n",
       "maxhr           0.345433     -0.395854  \n",
       "exerciseangina -0.436771      0.479666  \n",
       "oldpeak        -0.460884      0.378351  \n",
       "st_slope        1.000000     -0.529599  \n",
       "heartdisease   -0.529599      1.000000  "
      ]
     },
     "execution_count": 30,
     "metadata": {},
     "output_type": "execute_result"
    }
   ],
   "source": [
    "data_numeric.corr()"
   ]
  },
  {
   "cell_type": "code",
   "execution_count": 31,
   "id": "ed2cc7e2",
   "metadata": {
    "scrolled": true
   },
   "outputs": [
    {
     "data": {
      "image/png": "[encoded data removed]",
      "text/plain": [
       "<Figure size 900x600 with 2 Axes>"
      ]
     },
     "metadata": {},
     "output_type": "display_data"
    }
   ],
   "source": [
    "plt.figure(figsize=(9, 6))\n",
    "sns.heatmap(data_numeric.corr())\n",
    "plt.title('Heatmap showing correlations between numerical data')\n",
    "plt.show();"
   ]
  },
  {
   "cell_type": "code",
   "execution_count": 32,
   "id": "f0e7355e",
   "metadata": {},
   "outputs": [],
   "source": [
    "df_full_train, df_test = train_test_split(raw_df, test_size=0.2, random_state=1)\n",
    "df_train, df_val = train_test_split(df_full_train, test_size=0.25, random_state=1)\n",
    "df_train = df_train.reset_index(drop=True)\n",
    "df_val = df_val.reset_index(drop=True)\n",
    "df_test = df_test.reset_index(drop=True)\n",
    "y_train = df_train.heartdisease .values\n",
    "y_val = df_val.heartdisease.values\n",
    "y_test = df_test.heartdisease.values\n",
    "\n",
    "del df_train['heartdisease']\n",
    "del df_val['heartdisease']\n",
    "del df_test['heartdisease']"
   ]
  },
  {
   "cell_type": "markdown",
   "id": "67a02b9b",
   "metadata": {},
   "source": [
    "# One Hot Encoding"
   ]
  },
  {
   "cell_type": "code",
   "execution_count": 33,
   "id": "435f7d53",
   "metadata": {},
   "outputs": [],
   "source": [
    "dv = DictVectorizer(sparse=False)\n",
    "\n",
    "train_dict = df_train.to_dict(orient='records')\n",
    "X_train = dv.fit_transform(train_dict)\n",
    "\n",
    "val_dict = df_val.to_dict(orient='records')\n",
    "X_val = dv.transform(val_dict)"
   ]
  },
  {
   "cell_type": "markdown",
   "id": "4be9feae",
   "metadata": {},
   "source": [
    "# Logistic Regression"
   ]
  },
  {
   "cell_type": "code",
   "execution_count": 34,
   "id": "f93787ca",
   "metadata": {},
   "outputs": [
    {
     "data": {
      "text/html": [
       "<style>#sk-container-id-1 {color: black;}#sk-container-id-1 pre{padding: 0;}#sk-container-id-1 div.sk-toggleable {background-color: white;}#sk-container-id-1 label.sk-toggleable__label {cursor: pointer;display: block;width: 100%;margin-bottom: 0;padding: 0.3em;box-sizing: border-box;text-align: center;}#sk-container-id-1 label.sk-toggleable__label-arrow:before {content: \"▸\";float: left;margin-right: 0.25em;color: #696969;}#sk-container-id-1 label.sk-toggleable__label-arrow:hover:before {color: black;}#sk-container-id-1 div.sk-estimator:hover label.sk-toggleable__label-arrow:before {color: black;}#sk-container-id-1 div.sk-toggleable__content {max-height: 0;max-width: 0;overflow: hidden;text-align: left;background-color: #f0f8ff;}#sk-container-id-1 div.sk-toggleable__content pre {margin: 0.2em;color: black;border-radius: 0.25em;background-color: #f0f8ff;}#sk-container-id-1 input.sk-toggleable__control:checked~div.sk-toggleable__content {max-height: 200px;max-width: 100%;overflow: auto;}#sk-container-id-1 input.sk-toggleable__control:checked~label.sk-toggleable__label-arrow:before {content: \"▾\";}#sk-container-id-1 div.sk-estimator input.sk-toggleable__control:checked~label.sk-toggleable__label {background-color: #d4ebff;}#sk-container-id-1 div.sk-label input.sk-toggleable__control:checked~label.sk-toggleable__label {background-color: #d4ebff;}#sk-container-id-1 input.sk-hidden--visually {border: 0;clip: rect(1px 1px 1px 1px);clip: rect(1px, 1px, 1px, 1px);height: 1px;margin: -1px;overflow: hidden;padding: 0;position: absolute;width: 1px;}#sk-container-id-1 div.sk-estimator {font-family: monospace;background-color: #f0f8ff;border: 1px dotted black;border-radius: 0.25em;box-sizing: border-box;margin-bottom: 0.5em;}#sk-container-id-1 div.sk-estimator:hover {background-color: #d4ebff;}#sk-container-id-1 div.sk-parallel-item::after {content: \"\";width: 100%;border-bottom: 1px solid gray;flex-grow: 1;}#sk-container-id-1 div.sk-label:hover label.sk-toggleable__label {background-color: #d4ebff;}#sk-container-id-1 div.sk-serial::before {content: \"\";position: absolute;border-left: 1px solid gray;box-sizing: border-box;top: 0;bottom: 0;left: 50%;z-index: 0;}#sk-container-id-1 div.sk-serial {display: flex;flex-direction: column;align-items: center;background-color: white;padding-right: 0.2em;padding-left: 0.2em;position: relative;}#sk-container-id-1 div.sk-item {position: relative;z-index: 1;}#sk-container-id-1 div.sk-parallel {display: flex;align-items: stretch;justify-content: center;background-color: white;position: relative;}#sk-container-id-1 div.sk-item::before, #sk-container-id-1 div.sk-parallel-item::before {content: \"\";position: absolute;border-left: 1px solid gray;box-sizing: border-box;top: 0;bottom: 0;left: 50%;z-index: -1;}#sk-container-id-1 div.sk-parallel-item {display: flex;flex-direction: column;z-index: 1;position: relative;background-color: white;}#sk-container-id-1 div.sk-parallel-item:first-child::after {align-self: flex-end;width: 50%;}#sk-container-id-1 div.sk-parallel-item:last-child::after {align-self: flex-start;width: 50%;}#sk-container-id-1 div.sk-parallel-item:only-child::after {width: 0;}#sk-container-id-1 div.sk-dashed-wrapped {border: 1px dashed gray;margin: 0 0.4em 0.5em 0.4em;box-sizing: border-box;padding-bottom: 0.4em;background-color: white;}#sk-container-id-1 div.sk-label label {font-family: monospace;font-weight: bold;display: inline-block;line-height: 1.2em;}#sk-container-id-1 div.sk-label-container {text-align: center;}#sk-container-id-1 div.sk-container {/* jupyter's `normalize.less` sets `[hidden] { display: none; }` but bootstrap.min.css set `[hidden] { display: none !important; }` so we also need the `!important` here to be able to override the default hidden behavior on the sphinx rendered scikit-learn.org. See: https://github.com/scikit-learn/scikit-learn/issues/21755 */display: inline-block !important;position: relative;}#sk-container-id-1 div.sk-text-repr-fallback {display: none;}</style><div id=\"sk-container-id-1\" class=\"sk-top-container\"><div class=\"sk-text-repr-fallback\"><pre>LogisticRegression()</pre><b>In a Jupyter environment, please rerun this cell to show the HTML representation or trust the notebook. <br />On GitHub, the HTML representation is unable to render, please try loading this page with nbviewer.org.</b></div><div class=\"sk-container\" hidden><div class=\"sk-item\"><div class=\"sk-estimator sk-toggleable\"><input class=\"sk-toggleable__control sk-hidden--visually\" id=\"sk-estimator-id-1\" type=\"checkbox\" checked><label for=\"sk-estimator-id-1\" class=\"sk-toggleable__label sk-toggleable__label-arrow\">LogisticRegression</label><div class=\"sk-toggleable__content\"><pre>LogisticRegression()</pre></div></div></div></div></div>"
      ],
      "text/plain": [
       "LogisticRegression()"
      ]
     },
     "execution_count": 34,
     "metadata": {},
     "output_type": "execute_result"
    }
   ],
   "source": [
    "model = LogisticRegression(solver='lbfgs')\n",
    "model.fit(X_train,y_train)"
   ]
  },
  {
   "cell_type": "code",
   "execution_count": 35,
   "id": "82fae57c",
   "metadata": {},
   "outputs": [],
   "source": [
    "y_pred = model.predict_proba(X_val)[:, 1]"
   ]
  },
  {
   "cell_type": "code",
   "execution_count": 36,
   "id": "b2911f23",
   "metadata": {},
   "outputs": [],
   "source": [
    "heartdisease_decision = (y_pred >= 0.5)"
   ]
  },
  {
   "cell_type": "code",
   "execution_count": 37,
   "id": "b82799ea",
   "metadata": {},
   "outputs": [
    {
     "data": {
      "text/plain": [
       "0.8478260869565217"
      ]
     },
     "execution_count": 37,
     "metadata": {},
     "output_type": "execute_result"
    }
   ],
   "source": [
    "(y_val == heartdisease_decision).mean()"
   ]
  },
  {
   "cell_type": "code",
   "execution_count": 38,
   "id": "cd6dd03f",
   "metadata": {
    "scrolled": true
   },
   "outputs": [
    {
     "data": {
      "text/html": [
       "<div>\n",
       "<style scoped>\n",
       "    .dataframe tbody tr th:only-of-type {\n",
       "        vertical-align: middle;\n",
       "    }\n",
       "\n",
       "    .dataframe tbody tr th {\n",
       "        vertical-align: top;\n",
       "    }\n",
       "\n",
       "    .dataframe thead th {\n",
       "        text-align: right;\n",
       "    }\n",
       "</style>\n",
       "<table border=\"1\" class=\"dataframe\">\n",
       "  <thead>\n",
       "    <tr style=\"text-align: right;\">\n",
       "      <th></th>\n",
       "      <th>probability</th>\n",
       "      <th>prediction</th>\n",
       "      <th>actual</th>\n",
       "    </tr>\n",
       "  </thead>\n",
       "  <tbody>\n",
       "    <tr>\n",
       "      <th>0</th>\n",
       "      <td>0.852775</td>\n",
       "      <td>1</td>\n",
       "      <td>1</td>\n",
       "    </tr>\n",
       "    <tr>\n",
       "      <th>1</th>\n",
       "      <td>0.918245</td>\n",
       "      <td>1</td>\n",
       "      <td>0</td>\n",
       "    </tr>\n",
       "    <tr>\n",
       "      <th>2</th>\n",
       "      <td>0.783835</td>\n",
       "      <td>1</td>\n",
       "      <td>1</td>\n",
       "    </tr>\n",
       "    <tr>\n",
       "      <th>3</th>\n",
       "      <td>0.573532</td>\n",
       "      <td>1</td>\n",
       "      <td>1</td>\n",
       "    </tr>\n",
       "    <tr>\n",
       "      <th>4</th>\n",
       "      <td>0.923653</td>\n",
       "      <td>1</td>\n",
       "      <td>1</td>\n",
       "    </tr>\n",
       "    <tr>\n",
       "      <th>...</th>\n",
       "      <td>...</td>\n",
       "      <td>...</td>\n",
       "      <td>...</td>\n",
       "    </tr>\n",
       "    <tr>\n",
       "      <th>179</th>\n",
       "      <td>0.569053</td>\n",
       "      <td>1</td>\n",
       "      <td>0</td>\n",
       "    </tr>\n",
       "    <tr>\n",
       "      <th>180</th>\n",
       "      <td>0.989933</td>\n",
       "      <td>1</td>\n",
       "      <td>1</td>\n",
       "    </tr>\n",
       "    <tr>\n",
       "      <th>181</th>\n",
       "      <td>0.973037</td>\n",
       "      <td>1</td>\n",
       "      <td>1</td>\n",
       "    </tr>\n",
       "    <tr>\n",
       "      <th>182</th>\n",
       "      <td>0.230559</td>\n",
       "      <td>0</td>\n",
       "      <td>0</td>\n",
       "    </tr>\n",
       "    <tr>\n",
       "      <th>183</th>\n",
       "      <td>0.963663</td>\n",
       "      <td>1</td>\n",
       "      <td>1</td>\n",
       "    </tr>\n",
       "  </tbody>\n",
       "</table>\n",
       "<p>184 rows × 3 columns</p>\n",
       "</div>"
      ],
      "text/plain": [
       "     probability  prediction  actual\n",
       "0       0.852775           1       1\n",
       "1       0.918245           1       0\n",
       "2       0.783835           1       1\n",
       "3       0.573532           1       1\n",
       "4       0.923653           1       1\n",
       "..           ...         ...     ...\n",
       "179     0.569053           1       0\n",
       "180     0.989933           1       1\n",
       "181     0.973037           1       1\n",
       "182     0.230559           0       0\n",
       "183     0.963663           1       1\n",
       "\n",
       "[184 rows x 3 columns]"
      ]
     },
     "execution_count": 38,
     "metadata": {},
     "output_type": "execute_result"
    }
   ],
   "source": [
    "df_pred = pd.DataFrame()\n",
    "df_pred['probability'] = y_pred\n",
    "df_pred['prediction'] = heartdisease_decision.astype(int)\n",
    "df_pred['actual'] = y_val\n",
    "df_pred"
   ]
  },
  {
   "cell_type": "markdown",
   "id": "33776cc1",
   "metadata": {},
   "source": [
    "# Logistic Regression Score"
   ]
  },
  {
   "cell_type": "code",
   "execution_count": 39,
   "id": "9c4e1731",
   "metadata": {},
   "outputs": [
    {
     "data": {
      "text/plain": [
       "0.9117228286663502"
      ]
     },
     "execution_count": 39,
     "metadata": {},
     "output_type": "execute_result"
    }
   ],
   "source": [
    "roc_auc_score(y_val, y_pred)"
   ]
  },
  {
   "cell_type": "markdown",
   "id": "f7856e64",
   "metadata": {},
   "source": [
    "# Decision Tree "
   ]
  },
  {
   "cell_type": "code",
   "execution_count": 40,
   "id": "e1dcf875",
   "metadata": {},
   "outputs": [],
   "source": [
    "df_full_train, df_test = train_test_split(raw_df, test_size=0.2, random_state=1)\n",
    "df_train, df_val = train_test_split(df_full_train, test_size=0.25, random_state=1)\n",
    "df_train = df_train.reset_index(drop=True)\n",
    "df_val = df_val.reset_index(drop=True)\n",
    "df_test = df_test.reset_index(drop=True)\n",
    "y_train = df_train.heartdisease .values\n",
    "y_val = df_val.heartdisease.values\n",
    "y_test = df_test.heartdisease.values\n",
    "\n",
    "del df_train['heartdisease']\n",
    "del df_val['heartdisease']\n",
    "del df_test['heartdisease']"
   ]
  },
  {
   "cell_type": "code",
   "execution_count": 41,
   "id": "e7a6ca00",
   "metadata": {},
   "outputs": [],
   "source": [
    "scores = []\n",
    "depths = [4,5,6]\n",
    "\n",
    "for depth in depths: \n",
    "    for s in [1, 5, 10, 15, 20, 500, 100, 200]:\n",
    "        x_dict = df_train.to_dict(orient='records')\n",
    "        dv= DictVectorizer(sparse=False)\n",
    "        x_train = dv.fit_transform(x_dict)\n",
    "        dt = DecisionTreeClassifier(max_depth=depth, min_samples_leaf=s)\n",
    "        dt.fit(x_train, y_train)\n",
    "        val_dicts = df_val.to_dict(orient='records')\n",
    "        x_val = dv.transform(val_dicts)\n",
    "        y_pred = dt.predict_proba(x_val)[:, 1]\n",
    "        auc = roc_auc_score(y_val, y_pred)\n",
    "\n",
    "        scores.append((depth, s, auc))"
   ]
  },
  {
   "cell_type": "code",
   "execution_count": 42,
   "id": "5ccdcd8f",
   "metadata": {},
   "outputs": [],
   "source": [
    "columns = ['max_depth', 'min_samples_leaf', 'auc']\n",
    "df_scores = pd.DataFrame(scores, columns=columns)"
   ]
  },
  {
   "cell_type": "code",
   "execution_count": 43,
   "id": "3f1251e9",
   "metadata": {},
   "outputs": [
    {
     "data": {
      "text/html": [
       "<div>\n",
       "<style scoped>\n",
       "    .dataframe tbody tr th:only-of-type {\n",
       "        vertical-align: middle;\n",
       "    }\n",
       "\n",
       "    .dataframe tbody tr th {\n",
       "        vertical-align: top;\n",
       "    }\n",
       "\n",
       "    .dataframe thead tr th {\n",
       "        text-align: left;\n",
       "    }\n",
       "\n",
       "    .dataframe thead tr:last-of-type th {\n",
       "        text-align: right;\n",
       "    }\n",
       "</style>\n",
       "<table border=\"1\" class=\"dataframe\">\n",
       "  <thead>\n",
       "    <tr>\n",
       "      <th></th>\n",
       "      <th colspan=\"3\" halign=\"left\">auc</th>\n",
       "    </tr>\n",
       "    <tr>\n",
       "      <th>max_depth</th>\n",
       "      <th>4</th>\n",
       "      <th>5</th>\n",
       "      <th>6</th>\n",
       "    </tr>\n",
       "    <tr>\n",
       "      <th>min_samples_leaf</th>\n",
       "      <th></th>\n",
       "      <th></th>\n",
       "      <th></th>\n",
       "    </tr>\n",
       "  </thead>\n",
       "  <tbody>\n",
       "    <tr>\n",
       "      <th>1</th>\n",
       "      <td>0.863</td>\n",
       "      <td>0.855</td>\n",
       "      <td>0.847</td>\n",
       "    </tr>\n",
       "    <tr>\n",
       "      <th>5</th>\n",
       "      <td>0.873</td>\n",
       "      <td>0.884</td>\n",
       "      <td>0.877</td>\n",
       "    </tr>\n",
       "    <tr>\n",
       "      <th>10</th>\n",
       "      <td>0.876</td>\n",
       "      <td>0.874</td>\n",
       "      <td>0.882</td>\n",
       "    </tr>\n",
       "    <tr>\n",
       "      <th>15</th>\n",
       "      <td>0.874</td>\n",
       "      <td>0.880</td>\n",
       "      <td>0.881</td>\n",
       "    </tr>\n",
       "    <tr>\n",
       "      <th>20</th>\n",
       "      <td>0.872</td>\n",
       "      <td>0.872</td>\n",
       "      <td>0.868</td>\n",
       "    </tr>\n",
       "    <tr>\n",
       "      <th>100</th>\n",
       "      <td>0.801</td>\n",
       "      <td>0.801</td>\n",
       "      <td>0.801</td>\n",
       "    </tr>\n",
       "    <tr>\n",
       "      <th>200</th>\n",
       "      <td>0.742</td>\n",
       "      <td>0.742</td>\n",
       "      <td>0.742</td>\n",
       "    </tr>\n",
       "    <tr>\n",
       "      <th>500</th>\n",
       "      <td>0.500</td>\n",
       "      <td>0.500</td>\n",
       "      <td>0.500</td>\n",
       "    </tr>\n",
       "  </tbody>\n",
       "</table>\n",
       "</div>"
      ],
      "text/plain": [
       "                    auc              \n",
       "max_depth             4      5      6\n",
       "min_samples_leaf                     \n",
       "1                 0.863  0.855  0.847\n",
       "5                 0.873  0.884  0.877\n",
       "10                0.876  0.874  0.882\n",
       "15                0.874  0.880  0.881\n",
       "20                0.872  0.872  0.868\n",
       "100               0.801  0.801  0.801\n",
       "200               0.742  0.742  0.742\n",
       "500               0.500  0.500  0.500"
      ]
     },
     "execution_count": 43,
     "metadata": {},
     "output_type": "execute_result"
    }
   ],
   "source": [
    "df_scores_pivot = df_scores.pivot(index='min_samples_leaf', columns=['max_depth'], values=['auc'])\n",
    "df_scores_pivot.round(3)"
   ]
  },
  {
   "cell_type": "code",
   "execution_count": 44,
   "id": "3c8155f8",
   "metadata": {
    "scrolled": true
   },
   "outputs": [
    {
     "data": {
      "image/png": "[encoded data removed]",
      "text/plain": [
       "<Figure size 640x480 with 2 Axes>"
      ]
     },
     "metadata": {},
     "output_type": "display_data"
    }
   ],
   "source": [
    "sns.heatmap(df_scores_pivot, fmt=\".3f\");"
   ]
  },
  {
   "cell_type": "code",
   "execution_count": 45,
   "id": "14819918",
   "metadata": {
    "scrolled": true
   },
   "outputs": [
    {
     "data": {
      "text/html": [
       "<style>#sk-container-id-2 {color: black;}#sk-container-id-2 pre{padding: 0;}#sk-container-id-2 div.sk-toggleable {background-color: white;}#sk-container-id-2 label.sk-toggleable__label {cursor: pointer;display: block;width: 100%;margin-bottom: 0;padding: 0.3em;box-sizing: border-box;text-align: center;}#sk-container-id-2 label.sk-toggleable__label-arrow:before {content: \"▸\";float: left;margin-right: 0.25em;color: #696969;}#sk-container-id-2 label.sk-toggleable__label-arrow:hover:before {color: black;}#sk-container-id-2 div.sk-estimator:hover label.sk-toggleable__label-arrow:before {color: black;}#sk-container-id-2 div.sk-toggleable__content {max-height: 0;max-width: 0;overflow: hidden;text-align: left;background-color: #f0f8ff;}#sk-container-id-2 div.sk-toggleable__content pre {margin: 0.2em;color: black;border-radius: 0.25em;background-color: #f0f8ff;}#sk-container-id-2 input.sk-toggleable__control:checked~div.sk-toggleable__content {max-height: 200px;max-width: 100%;overflow: auto;}#sk-container-id-2 input.sk-toggleable__control:checked~label.sk-toggleable__label-arrow:before {content: \"▾\";}#sk-container-id-2 div.sk-estimator input.sk-toggleable__control:checked~label.sk-toggleable__label {background-color: #d4ebff;}#sk-container-id-2 div.sk-label input.sk-toggleable__control:checked~label.sk-toggleable__label {background-color: #d4ebff;}#sk-container-id-2 input.sk-hidden--visually {border: 0;clip: rect(1px 1px 1px 1px);clip: rect(1px, 1px, 1px, 1px);height: 1px;margin: -1px;overflow: hidden;padding: 0;position: absolute;width: 1px;}#sk-container-id-2 div.sk-estimator {font-family: monospace;background-color: #f0f8ff;border: 1px dotted black;border-radius: 0.25em;box-sizing: border-box;margin-bottom: 0.5em;}#sk-container-id-2 div.sk-estimator:hover {background-color: #d4ebff;}#sk-container-id-2 div.sk-parallel-item::after {content: \"\";width: 100%;border-bottom: 1px solid gray;flex-grow: 1;}#sk-container-id-2 div.sk-label:hover label.sk-toggleable__label {background-color: #d4ebff;}#sk-container-id-2 div.sk-serial::before {content: \"\";position: absolute;border-left: 1px solid gray;box-sizing: border-box;top: 0;bottom: 0;left: 50%;z-index: 0;}#sk-container-id-2 div.sk-serial {display: flex;flex-direction: column;align-items: center;background-color: white;padding-right: 0.2em;padding-left: 0.2em;position: relative;}#sk-container-id-2 div.sk-item {position: relative;z-index: 1;}#sk-container-id-2 div.sk-parallel {display: flex;align-items: stretch;justify-content: center;background-color: white;position: relative;}#sk-container-id-2 div.sk-item::before, #sk-container-id-2 div.sk-parallel-item::before {content: \"\";position: absolute;border-left: 1px solid gray;box-sizing: border-box;top: 0;bottom: 0;left: 50%;z-index: -1;}#sk-container-id-2 div.sk-parallel-item {display: flex;flex-direction: column;z-index: 1;position: relative;background-color: white;}#sk-container-id-2 div.sk-parallel-item:first-child::after {align-self: flex-end;width: 50%;}#sk-container-id-2 div.sk-parallel-item:last-child::after {align-self: flex-start;width: 50%;}#sk-container-id-2 div.sk-parallel-item:only-child::after {width: 0;}#sk-container-id-2 div.sk-dashed-wrapped {border: 1px dashed gray;margin: 0 0.4em 0.5em 0.4em;box-sizing: border-box;padding-bottom: 0.4em;background-color: white;}#sk-container-id-2 div.sk-label label {font-family: monospace;font-weight: bold;display: inline-block;line-height: 1.2em;}#sk-container-id-2 div.sk-label-container {text-align: center;}#sk-container-id-2 div.sk-container {/* jupyter's `normalize.less` sets `[hidden] { display: none; }` but bootstrap.min.css set `[hidden] { display: none !important; }` so we also need the `!important` here to be able to override the default hidden behavior on the sphinx rendered scikit-learn.org. See: https://github.com/scikit-learn/scikit-learn/issues/21755 */display: inline-block !important;position: relative;}#sk-container-id-2 div.sk-text-repr-fallback {display: none;}</style><div id=\"sk-container-id-2\" class=\"sk-top-container\"><div class=\"sk-text-repr-fallback\"><pre>DecisionTreeClassifier(max_depth=5, min_samples_leaf=5)</pre><b>In a Jupyter environment, please rerun this cell to show the HTML representation or trust the notebook. <br />On GitHub, the HTML representation is unable to render, please try loading this page with nbviewer.org.</b></div><div class=\"sk-container\" hidden><div class=\"sk-item\"><div class=\"sk-estimator sk-toggleable\"><input class=\"sk-toggleable__control sk-hidden--visually\" id=\"sk-estimator-id-2\" type=\"checkbox\" checked><label for=\"sk-estimator-id-2\" class=\"sk-toggleable__label sk-toggleable__label-arrow\">DecisionTreeClassifier</label><div class=\"sk-toggleable__content\"><pre>DecisionTreeClassifier(max_depth=5, min_samples_leaf=5)</pre></div></div></div></div></div>"
      ],
      "text/plain": [
       "DecisionTreeClassifier(max_depth=5, min_samples_leaf=5)"
      ]
     },
     "execution_count": 45,
     "metadata": {},
     "output_type": "execute_result"
    }
   ],
   "source": [
    "dt = DecisionTreeClassifier(max_depth=5, min_samples_leaf=5)\n",
    "dt.fit(X_train, y_train)"
   ]
  },
  {
   "cell_type": "markdown",
   "id": "4744a738",
   "metadata": {},
   "source": [
    "# Decision Tree Score"
   ]
  },
  {
   "cell_type": "code",
   "execution_count": 46,
   "id": "248b502c",
   "metadata": {},
   "outputs": [
    {
     "data": {
      "text/plain": [
       "0.8771357380161366"
      ]
     },
     "execution_count": 46,
     "metadata": {},
     "output_type": "execute_result"
    }
   ],
   "source": [
    "val_dicts = df_val.to_dict(orient='records')\n",
    "x_val = dv.transform(val_dicts)\n",
    "y_pred = dt.predict_proba(x_val)[:, 1]\n",
    "auc = roc_auc_score(y_val, y_pred)\n",
    "auc"
   ]
  },
  {
   "cell_type": "markdown",
   "id": "eeabb00e",
   "metadata": {},
   "source": [
    "# Random Forest Classifier"
   ]
  },
  {
   "cell_type": "code",
   "execution_count": 47,
   "id": "a57c1970",
   "metadata": {},
   "outputs": [],
   "source": [
    "df_full_train, df_test = train_test_split(raw_df, test_size=0.2, random_state=1)\n",
    "df_train, df_val = train_test_split(df_full_train, test_size=0.25, random_state=1)\n",
    "df_train = df_train.reset_index(drop=True)\n",
    "df_val = df_val.reset_index(drop=True)\n",
    "df_test = df_test.reset_index(drop=True)\n",
    "y_train = df_train.heartdisease .values\n",
    "y_val = df_val.heartdisease.values\n",
    "y_test = df_test.heartdisease.values\n",
    "\n",
    "del df_train['heartdisease']\n",
    "del df_val['heartdisease']\n",
    "del df_test['heartdisease']"
   ]
  },
  {
   "cell_type": "code",
   "execution_count": 48,
   "id": "b4df97e8",
   "metadata": {},
   "outputs": [],
   "source": [
    "scores = []\n",
    "\n",
    "for d in [5, 10, 15]:\n",
    "    for n in range(10, 201, 10):\n",
    "        rf = RandomForestClassifier(n_estimators=n,\n",
    "                                    max_depth=d,\n",
    "                                    random_state=1)\n",
    "        rf.fit(X_train, y_train)\n",
    "\n",
    "        y_pred = rf.predict_proba(X_val)[:, 1]\n",
    "        auc = roc_auc_score(y_val, y_pred)\n",
    "\n",
    "        scores.append((d, n, auc))"
   ]
  },
  {
   "cell_type": "code",
   "execution_count": 49,
   "id": "582d21d9",
   "metadata": {},
   "outputs": [],
   "source": [
    "columns = ['max_depth', 'n_estimators', 'auc']\n",
    "df_scores = pd.DataFrame(scores, columns=columns)"
   ]
  },
  {
   "cell_type": "code",
   "execution_count": 50,
   "id": "b86ec7b0",
   "metadata": {},
   "outputs": [
    {
     "data": {
      "text/html": [
       "<div>\n",
       "<style scoped>\n",
       "    .dataframe tbody tr th:only-of-type {\n",
       "        vertical-align: middle;\n",
       "    }\n",
       "\n",
       "    .dataframe tbody tr th {\n",
       "        vertical-align: top;\n",
       "    }\n",
       "\n",
       "    .dataframe thead tr th {\n",
       "        text-align: left;\n",
       "    }\n",
       "\n",
       "    .dataframe thead tr:last-of-type th {\n",
       "        text-align: right;\n",
       "    }\n",
       "</style>\n",
       "<table border=\"1\" class=\"dataframe\">\n",
       "  <thead>\n",
       "    <tr>\n",
       "      <th></th>\n",
       "      <th colspan=\"3\" halign=\"left\">auc</th>\n",
       "    </tr>\n",
       "    <tr>\n",
       "      <th>max_depth</th>\n",
       "      <th>5</th>\n",
       "      <th>10</th>\n",
       "      <th>15</th>\n",
       "    </tr>\n",
       "    <tr>\n",
       "      <th>n_estimators</th>\n",
       "      <th></th>\n",
       "      <th></th>\n",
       "      <th></th>\n",
       "    </tr>\n",
       "  </thead>\n",
       "  <tbody>\n",
       "    <tr>\n",
       "      <th>10</th>\n",
       "      <td>0.897</td>\n",
       "      <td>0.880</td>\n",
       "      <td>0.893</td>\n",
       "    </tr>\n",
       "    <tr>\n",
       "      <th>20</th>\n",
       "      <td>0.895</td>\n",
       "      <td>0.887</td>\n",
       "      <td>0.906</td>\n",
       "    </tr>\n",
       "    <tr>\n",
       "      <th>30</th>\n",
       "      <td>0.901</td>\n",
       "      <td>0.899</td>\n",
       "      <td>0.908</td>\n",
       "    </tr>\n",
       "    <tr>\n",
       "      <th>40</th>\n",
       "      <td>0.901</td>\n",
       "      <td>0.902</td>\n",
       "      <td>0.909</td>\n",
       "    </tr>\n",
       "    <tr>\n",
       "      <th>50</th>\n",
       "      <td>0.905</td>\n",
       "      <td>0.906</td>\n",
       "      <td>0.910</td>\n",
       "    </tr>\n",
       "    <tr>\n",
       "      <th>60</th>\n",
       "      <td>0.905</td>\n",
       "      <td>0.909</td>\n",
       "      <td>0.909</td>\n",
       "    </tr>\n",
       "    <tr>\n",
       "      <th>70</th>\n",
       "      <td>0.904</td>\n",
       "      <td>0.908</td>\n",
       "      <td>0.911</td>\n",
       "    </tr>\n",
       "    <tr>\n",
       "      <th>80</th>\n",
       "      <td>0.906</td>\n",
       "      <td>0.908</td>\n",
       "      <td>0.910</td>\n",
       "    </tr>\n",
       "    <tr>\n",
       "      <th>90</th>\n",
       "      <td>0.906</td>\n",
       "      <td>0.908</td>\n",
       "      <td>0.911</td>\n",
       "    </tr>\n",
       "    <tr>\n",
       "      <th>100</th>\n",
       "      <td>0.908</td>\n",
       "      <td>0.909</td>\n",
       "      <td>0.911</td>\n",
       "    </tr>\n",
       "    <tr>\n",
       "      <th>110</th>\n",
       "      <td>0.907</td>\n",
       "      <td>0.909</td>\n",
       "      <td>0.910</td>\n",
       "    </tr>\n",
       "    <tr>\n",
       "      <th>120</th>\n",
       "      <td>0.906</td>\n",
       "      <td>0.908</td>\n",
       "      <td>0.909</td>\n",
       "    </tr>\n",
       "    <tr>\n",
       "      <th>130</th>\n",
       "      <td>0.906</td>\n",
       "      <td>0.910</td>\n",
       "      <td>0.910</td>\n",
       "    </tr>\n",
       "    <tr>\n",
       "      <th>140</th>\n",
       "      <td>0.906</td>\n",
       "      <td>0.909</td>\n",
       "      <td>0.909</td>\n",
       "    </tr>\n",
       "    <tr>\n",
       "      <th>150</th>\n",
       "      <td>0.906</td>\n",
       "      <td>0.910</td>\n",
       "      <td>0.909</td>\n",
       "    </tr>\n",
       "    <tr>\n",
       "      <th>160</th>\n",
       "      <td>0.906</td>\n",
       "      <td>0.910</td>\n",
       "      <td>0.910</td>\n",
       "    </tr>\n",
       "    <tr>\n",
       "      <th>170</th>\n",
       "      <td>0.906</td>\n",
       "      <td>0.910</td>\n",
       "      <td>0.909</td>\n",
       "    </tr>\n",
       "    <tr>\n",
       "      <th>180</th>\n",
       "      <td>0.906</td>\n",
       "      <td>0.909</td>\n",
       "      <td>0.909</td>\n",
       "    </tr>\n",
       "    <tr>\n",
       "      <th>190</th>\n",
       "      <td>0.906</td>\n",
       "      <td>0.910</td>\n",
       "      <td>0.911</td>\n",
       "    </tr>\n",
       "    <tr>\n",
       "      <th>200</th>\n",
       "      <td>0.906</td>\n",
       "      <td>0.910</td>\n",
       "      <td>0.911</td>\n",
       "    </tr>\n",
       "  </tbody>\n",
       "</table>\n",
       "</div>"
      ],
      "text/plain": [
       "                auc              \n",
       "max_depth        5      10     15\n",
       "n_estimators                     \n",
       "10            0.897  0.880  0.893\n",
       "20            0.895  0.887  0.906\n",
       "30            0.901  0.899  0.908\n",
       "40            0.901  0.902  0.909\n",
       "50            0.905  0.906  0.910\n",
       "60            0.905  0.909  0.909\n",
       "70            0.904  0.908  0.911\n",
       "80            0.906  0.908  0.910\n",
       "90            0.906  0.908  0.911\n",
       "100           0.908  0.909  0.911\n",
       "110           0.907  0.909  0.910\n",
       "120           0.906  0.908  0.909\n",
       "130           0.906  0.910  0.910\n",
       "140           0.906  0.909  0.909\n",
       "150           0.906  0.910  0.909\n",
       "160           0.906  0.910  0.910\n",
       "170           0.906  0.910  0.909\n",
       "180           0.906  0.909  0.909\n",
       "190           0.906  0.910  0.911\n",
       "200           0.906  0.910  0.911"
      ]
     },
     "execution_count": 50,
     "metadata": {},
     "output_type": "execute_result"
    }
   ],
   "source": [
    "df_scores_pivot = df_scores.pivot(index='n_estimators', columns=['max_depth'], values=['auc'])\n",
    "df_scores_pivot.round(3)"
   ]
  },
  {
   "cell_type": "code",
   "execution_count": 51,
   "id": "e4fa2ea3",
   "metadata": {},
   "outputs": [
    {
     "data": {
      "image/png": "[encoded data removed]",
      "text/plain": [
       "<Figure size 640x480 with 2 Axes>"
      ]
     },
     "metadata": {},
     "output_type": "display_data"
    }
   ],
   "source": [
    "sns.heatmap(df_scores_pivot, fmt=\".3f\");"
   ]
  },
  {
   "cell_type": "code",
   "execution_count": 52,
   "id": "251076e6",
   "metadata": {},
   "outputs": [
    {
     "data": {
      "image/png": "[encoded data removed]",
      "text/plain": [
       "<Figure size 640x480 with 1 Axes>"
      ]
     },
     "metadata": {},
     "output_type": "display_data"
    }
   ],
   "source": [
    "for d in [5, 10, 15]:\n",
    "    df_subset = df_scores[df_scores.max_depth == d]\n",
    "    \n",
    "    plt.plot(df_subset.n_estimators, df_subset.auc,\n",
    "             label='max_depth=%d' % d)\n",
    "\n",
    "plt.legend();"
   ]
  },
  {
   "cell_type": "code",
   "execution_count": 53,
   "id": "02829d33",
   "metadata": {},
   "outputs": [],
   "source": [
    "max_depth = 15"
   ]
  },
  {
   "cell_type": "code",
   "execution_count": 54,
   "id": "643e05f2",
   "metadata": {},
   "outputs": [],
   "source": [
    "scores = []\n",
    "\n",
    "for s in [1, 3, 5, 10, 50]:\n",
    "    for n in range(10, 201, 10):\n",
    "        rf = RandomForestClassifier(n_estimators=n,\n",
    "                                    max_depth=max_depth,\n",
    "                                    min_samples_leaf=s,\n",
    "                                    random_state=1)\n",
    "        rf.fit(X_train, y_train)\n",
    "\n",
    "        y_pred = rf.predict_proba(X_val)[:, 1]\n",
    "        auc = roc_auc_score(y_val, y_pred)\n",
    "\n",
    "        scores.append((s, n, auc))"
   ]
  },
  {
   "cell_type": "code",
   "execution_count": 55,
   "id": "82ee263e",
   "metadata": {},
   "outputs": [],
   "source": [
    "columns = ['min_samples_leaf', 'n_estimators', 'auc']\n",
    "df_scores = pd.DataFrame(scores, columns=columns)"
   ]
  },
  {
   "cell_type": "code",
   "execution_count": 56,
   "id": "5a5e1532",
   "metadata": {},
   "outputs": [
    {
     "data": {
      "image/png": "[encoded data removed]",
      "text/plain": [
       "<Figure size 640x480 with 2 Axes>"
      ]
     },
     "metadata": {},
     "output_type": "display_data"
    }
   ],
   "source": [
    "sns.heatmap(df_scores_pivot, fmt=\".3f\");"
   ]
  },
  {
   "cell_type": "code",
   "execution_count": 57,
   "id": "e493d42a",
   "metadata": {},
   "outputs": [
    {
     "data": {
      "image/png": "[encoded data removed]",
      "text/plain": [
       "<Figure size 640x480 with 1 Axes>"
      ]
     },
     "metadata": {},
     "output_type": "display_data"
    }
   ],
   "source": [
    "colors = ['black', 'blue', 'orange', 'red', 'grey']\n",
    "values = [1, 3, 5, 10, 50]\n",
    "\n",
    "for s, col in zip(values, colors):\n",
    "    df_subset = df_scores[df_scores.min_samples_leaf == s]\n",
    "    \n",
    "    plt.plot(df_subset.n_estimators, df_subset.auc,\n",
    "             color=col,\n",
    "             label='min_samples_leaf=%d' % s)\n",
    "\n",
    "plt.legend();"
   ]
  },
  {
   "cell_type": "code",
   "execution_count": 58,
   "id": "74e5b509",
   "metadata": {},
   "outputs": [],
   "source": [
    "min_samples_leaf = 3"
   ]
  },
  {
   "cell_type": "code",
   "execution_count": 59,
   "id": "ef182a70",
   "metadata": {},
   "outputs": [],
   "source": [
    "scores = []\n",
    "for n in range(10, 201, 10):\n",
    "        rf = RandomForestClassifier(n_estimators=n,\n",
    "                                    max_depth=max_depth,\n",
    "                                    min_samples_leaf=min_samples_leaf,\n",
    "                                    random_state=1)\n",
    "        rf.fit(X_train, y_train)\n",
    "\n",
    "        y_pred = rf.predict_proba(X_val)[:, 1]\n",
    "        auc = roc_auc_score(y_val, y_pred)\n",
    "\n",
    "        scores.append((s, n, auc))"
   ]
  },
  {
   "cell_type": "code",
   "execution_count": 60,
   "id": "7727c7a0",
   "metadata": {},
   "outputs": [],
   "source": [
    "columns = ['max_depth', 'min_samples_leaf', 'auc']\n",
    "df_scores = pd.DataFrame(scores, columns=columns)"
   ]
  },
  {
   "cell_type": "code",
   "execution_count": 61,
   "id": "c815e55b",
   "metadata": {
    "scrolled": true
   },
   "outputs": [
    {
     "data": {
      "text/html": [
       "<style>#sk-container-id-3 {color: black;}#sk-container-id-3 pre{padding: 0;}#sk-container-id-3 div.sk-toggleable {background-color: white;}#sk-container-id-3 label.sk-toggleable__label {cursor: pointer;display: block;width: 100%;margin-bottom: 0;padding: 0.3em;box-sizing: border-box;text-align: center;}#sk-container-id-3 label.sk-toggleable__label-arrow:before {content: \"▸\";float: left;margin-right: 0.25em;color: #696969;}#sk-container-id-3 label.sk-toggleable__label-arrow:hover:before {color: black;}#sk-container-id-3 div.sk-estimator:hover label.sk-toggleable__label-arrow:before {color: black;}#sk-container-id-3 div.sk-toggleable__content {max-height: 0;max-width: 0;overflow: hidden;text-align: left;background-color: #f0f8ff;}#sk-container-id-3 div.sk-toggleable__content pre {margin: 0.2em;color: black;border-radius: 0.25em;background-color: #f0f8ff;}#sk-container-id-3 input.sk-toggleable__control:checked~div.sk-toggleable__content {max-height: 200px;max-width: 100%;overflow: auto;}#sk-container-id-3 input.sk-toggleable__control:checked~label.sk-toggleable__label-arrow:before {content: \"▾\";}#sk-container-id-3 div.sk-estimator input.sk-toggleable__control:checked~label.sk-toggleable__label {background-color: #d4ebff;}#sk-container-id-3 div.sk-label input.sk-toggleable__control:checked~label.sk-toggleable__label {background-color: #d4ebff;}#sk-container-id-3 input.sk-hidden--visually {border: 0;clip: rect(1px 1px 1px 1px);clip: rect(1px, 1px, 1px, 1px);height: 1px;margin: -1px;overflow: hidden;padding: 0;position: absolute;width: 1px;}#sk-container-id-3 div.sk-estimator {font-family: monospace;background-color: #f0f8ff;border: 1px dotted black;border-radius: 0.25em;box-sizing: border-box;margin-bottom: 0.5em;}#sk-container-id-3 div.sk-estimator:hover {background-color: #d4ebff;}#sk-container-id-3 div.sk-parallel-item::after {content: \"\";width: 100%;border-bottom: 1px solid gray;flex-grow: 1;}#sk-container-id-3 div.sk-label:hover label.sk-toggleable__label {background-color: #d4ebff;}#sk-container-id-3 div.sk-serial::before {content: \"\";position: absolute;border-left: 1px solid gray;box-sizing: border-box;top: 0;bottom: 0;left: 50%;z-index: 0;}#sk-container-id-3 div.sk-serial {display: flex;flex-direction: column;align-items: center;background-color: white;padding-right: 0.2em;padding-left: 0.2em;position: relative;}#sk-container-id-3 div.sk-item {position: relative;z-index: 1;}#sk-container-id-3 div.sk-parallel {display: flex;align-items: stretch;justify-content: center;background-color: white;position: relative;}#sk-container-id-3 div.sk-item::before, #sk-container-id-3 div.sk-parallel-item::before {content: \"\";position: absolute;border-left: 1px solid gray;box-sizing: border-box;top: 0;bottom: 0;left: 50%;z-index: -1;}#sk-container-id-3 div.sk-parallel-item {display: flex;flex-direction: column;z-index: 1;position: relative;background-color: white;}#sk-container-id-3 div.sk-parallel-item:first-child::after {align-self: flex-end;width: 50%;}#sk-container-id-3 div.sk-parallel-item:last-child::after {align-self: flex-start;width: 50%;}#sk-container-id-3 div.sk-parallel-item:only-child::after {width: 0;}#sk-container-id-3 div.sk-dashed-wrapped {border: 1px dashed gray;margin: 0 0.4em 0.5em 0.4em;box-sizing: border-box;padding-bottom: 0.4em;background-color: white;}#sk-container-id-3 div.sk-label label {font-family: monospace;font-weight: bold;display: inline-block;line-height: 1.2em;}#sk-container-id-3 div.sk-label-container {text-align: center;}#sk-container-id-3 div.sk-container {/* jupyter's `normalize.less` sets `[hidden] { display: none; }` but bootstrap.min.css set `[hidden] { display: none !important; }` so we also need the `!important` here to be able to override the default hidden behavior on the sphinx rendered scikit-learn.org. See: https://github.com/scikit-learn/scikit-learn/issues/21755 */display: inline-block !important;position: relative;}#sk-container-id-3 div.sk-text-repr-fallback {display: none;}</style><div id=\"sk-container-id-3\" class=\"sk-top-container\"><div class=\"sk-text-repr-fallback\"><pre>RandomForestClassifier(max_depth=15, min_samples_leaf=3, n_estimators=200,\n",
       "                       random_state=1)</pre><b>In a Jupyter environment, please rerun this cell to show the HTML representation or trust the notebook. <br />On GitHub, the HTML representation is unable to render, please try loading this page with nbviewer.org.</b></div><div class=\"sk-container\" hidden><div class=\"sk-item\"><div class=\"sk-estimator sk-toggleable\"><input class=\"sk-toggleable__control sk-hidden--visually\" id=\"sk-estimator-id-3\" type=\"checkbox\" checked><label for=\"sk-estimator-id-3\" class=\"sk-toggleable__label sk-toggleable__label-arrow\">RandomForestClassifier</label><div class=\"sk-toggleable__content\"><pre>RandomForestClassifier(max_depth=15, min_samples_leaf=3, n_estimators=200,\n",
       "                       random_state=1)</pre></div></div></div></div></div>"
      ],
      "text/plain": [
       "RandomForestClassifier(max_depth=15, min_samples_leaf=3, n_estimators=200,\n",
       "                       random_state=1)"
      ]
     },
     "execution_count": 61,
     "metadata": {},
     "output_type": "execute_result"
    }
   ],
   "source": [
    "rf = RandomForestClassifier(n_estimators=200,\n",
    "                            max_depth=max_depth,\n",
    "                            min_samples_leaf=min_samples_leaf,random_state=1)\n",
    "\n",
    "rf.fit(x_train, y_train)"
   ]
  },
  {
   "cell_type": "markdown",
   "id": "d91a1e72",
   "metadata": {},
   "source": [
    "# Random Forest Score"
   ]
  },
  {
   "cell_type": "code",
   "execution_count": 62,
   "id": "314ac595",
   "metadata": {},
   "outputs": [
    {
     "data": {
      "text/plain": [
       "0.911485524442335"
      ]
     },
     "execution_count": 62,
     "metadata": {},
     "output_type": "execute_result"
    }
   ],
   "source": [
    "y_pred = rf.predict_proba(X_val)[:, 1]\n",
    "auc = roc_auc_score(y_val, y_pred)\n",
    "auc"
   ]
  },
  {
   "cell_type": "markdown",
   "id": "12c887e4",
   "metadata": {},
   "source": [
    "# Gradient boosting and XGBoost"
   ]
  },
  {
   "cell_type": "code",
   "execution_count": 63,
   "id": "c940fa43",
   "metadata": {},
   "outputs": [],
   "source": [
    "df_full_train, df_test = train_test_split(raw_df, test_size=0.2, random_state=1)\n",
    "df_train, df_val = train_test_split(df_full_train, test_size=0.25, random_state=1)\n",
    "df_train = df_train.reset_index(drop=True)\n",
    "df_val = df_val.reset_index(drop=True)\n",
    "df_test = df_test.reset_index(drop=True)\n",
    "y_train = df_train.heartdisease .values\n",
    "y_val = df_val.heartdisease.values\n",
    "y_test = df_test.heartdisease.values\n",
    "\n",
    "del df_train['heartdisease']\n",
    "del df_val['heartdisease']\n",
    "del df_test['heartdisease']"
   ]
  },
  {
   "cell_type": "code",
   "execution_count": 64,
   "id": "1f208c16",
   "metadata": {},
   "outputs": [],
   "source": [
    "x_dict = df_train.to_dict(orient='records')\n",
    "dv= DictVectorizer(sparse=False)\n",
    "x_train = dv.fit_transform(x_dict)\n",
    "val_dicts = df_val.to_dict(orient='records')\n",
    "x_val = dv.transform(val_dicts)"
   ]
  },
  {
   "cell_type": "code",
   "execution_count": 65,
   "id": "4e4dc142",
   "metadata": {},
   "outputs": [
    {
     "data": {
      "text/plain": [
       "array(['age', 'chestpaintype=ASY', 'chestpaintype=ATA',\n",
       "       'chestpaintype=NAP', 'chestpaintype=TA', 'cholesterol',\n",
       "       'exerciseangina=N', 'exerciseangina=Y', 'fastingbs', 'maxhr',\n",
       "       'oldpeak', 'restingbp', 'restingecg=LVH', 'restingecg=Normal',\n",
       "       'restingecg=ST', 'sex=F', 'sex=M', 'st_slope=Down',\n",
       "       'st_slope=Flat', 'st_slope=Up'], dtype=object)"
      ]
     },
     "execution_count": 65,
     "metadata": {},
     "output_type": "execute_result"
    }
   ],
   "source": [
    "features = dv.get_feature_names_out()\n",
    "features"
   ]
  },
  {
   "cell_type": "code",
   "execution_count": 66,
   "id": "fa9496c3",
   "metadata": {},
   "outputs": [],
   "source": [
    "features = dv.get_feature_names_out()\n",
    "features = features.tolist()\n",
    "dtrain = xgb.DMatrix(x_train, label=y_train, feature_names=features)\n",
    "dval = xgb.DMatrix(x_val, label=y_val, feature_names=features)"
   ]
  },
  {
   "cell_type": "code",
   "execution_count": 67,
   "id": "56bcbe3f",
   "metadata": {},
   "outputs": [],
   "source": [
    "xgb_params = {\n",
    "    'eta': 0.3, \n",
    "    'max_depth': 6,\n",
    "    'min_child_weight': 1,\n",
    "    \n",
    "    'objective': 'binary:logistic',\n",
    "    'nthread': 8,\n",
    "    \n",
    "    'seed': 1,\n",
    "    'verbosity': 1,\n",
    "}\n",
    "\n",
    "model = xgb.train(xgb_params, dtrain, num_boost_round=10)"
   ]
  },
  {
   "cell_type": "code",
   "execution_count": 68,
   "id": "84b0c6ad",
   "metadata": {},
   "outputs": [
    {
     "data": {
      "text/plain": [
       "0.8970099667774085"
      ]
     },
     "execution_count": 68,
     "metadata": {},
     "output_type": "execute_result"
    }
   ],
   "source": [
    "y_pred = model.predict(dval)\n",
    "roc_auc_score(y_val, y_pred)"
   ]
  },
  {
   "cell_type": "code",
   "execution_count": 69,
   "id": "6e788d0b",
   "metadata": {},
   "outputs": [],
   "source": [
    "watchlist = [(dtrain, 'train'), (dval, 'val')]"
   ]
  },
  {
   "cell_type": "code",
   "execution_count": 70,
   "id": "649abc88",
   "metadata": {},
   "outputs": [],
   "source": [
    "%%capture output\n",
    "\n",
    "xgb_params = {\n",
    "    'eta': 0.3, \n",
    "    'max_depth': 6,\n",
    "    'min_child_weight': 1,\n",
    "    \n",
    "    'objective': 'binary:logistic',\n",
    "    'eval_metric': 'auc',\n",
    "\n",
    "    'nthread': 8,\n",
    "    'seed': 1,\n",
    "    'verbosity': 1,\n",
    "}\n",
    "\n",
    "model = xgb.train(xgb_params, dtrain, num_boost_round=10,\n",
    "                  verbose_eval=5,\n",
    "                  evals=watchlist)\n",
    "y_pred = model.predict(dval)"
   ]
  },
  {
   "cell_type": "markdown",
   "id": "95d7f4e3",
   "metadata": {},
   "source": [
    "# Gradient boosting and XGBoost Score"
   ]
  },
  {
   "cell_type": "code",
   "execution_count": 71,
   "id": "a9ddf4c7",
   "metadata": {},
   "outputs": [
    {
     "data": {
      "text/plain": [
       "0.8970099667774085"
      ]
     },
     "execution_count": 71,
     "metadata": {},
     "output_type": "execute_result"
    }
   ],
   "source": [
    "roc_auc_score(y_val, y_pred)"
   ]
  },
  {
   "cell_type": "code",
   "execution_count": 72,
   "id": "8a3dfda7",
   "metadata": {},
   "outputs": [],
   "source": [
    "s = output.stdout"
   ]
  },
  {
   "cell_type": "code",
   "execution_count": 73,
   "id": "3bf25ce4",
   "metadata": {
    "scrolled": true
   },
   "outputs": [
    {
     "name": "stdout",
     "output_type": "stream",
     "text": [
      "[0]\ttrain-auc:0.95102\tval-auc:0.87631\n",
      "[5]\ttrain-auc:0.98991\tval-auc:0.88805\n",
      "[9]\ttrain-auc:0.99541\tval-auc:0.89701\n",
      "\n"
     ]
    }
   ],
   "source": [
    "print(s[:200])"
   ]
  },
  {
   "cell_type": "code",
   "execution_count": 74,
   "id": "c3519792",
   "metadata": {},
   "outputs": [],
   "source": [
    "def parse(output):\n",
    "    scores = []\n",
    "    for line in output.stdout.strip().split('\\n'):\n",
    "            a,b,c = line.split('\\t')\n",
    "            itr = int(a.strip('[]'))\n",
    "            train = float(b.split(':')[1])\n",
    "            val = float(c.split(':')[1])\n",
    "            \n",
    "            scores.append((itr,train,val))\n",
    "    columns = ['iteration','train_auc','val_auc']\n",
    "    df_scores = pd.DataFrame(scores,columns=columns)\n",
    "    return df_scores"
   ]
  },
  {
   "cell_type": "code",
   "execution_count": 75,
   "id": "3e284cda",
   "metadata": {},
   "outputs": [],
   "source": [
    "df_score = parse(output)"
   ]
  },
  {
   "cell_type": "code",
   "execution_count": 76,
   "id": "4d178756",
   "metadata": {},
   "outputs": [
    {
     "data": {
      "image/png": "[encoded data removed]",
      "text/plain": [
       "<Figure size 640x480 with 1 Axes>"
      ]
     },
     "metadata": {},
     "output_type": "display_data"
    }
   ],
   "source": [
    "plt.plot(df_score.iteration, df_score.train_auc, label='train')\n",
    "plt.plot(df_score.iteration, df_score.val_auc, label='val')\n",
    "plt.legend();"
   ]
  },
  {
   "cell_type": "code",
   "execution_count": 77,
   "id": "bbe77b96",
   "metadata": {},
   "outputs": [],
   "source": [
    "def final_train(df_train, y_train, C=1.0):\n",
    "    dicts = df_train.to_dict(orient='records')\n",
    "\n",
    "    dv = DictVectorizer(sparse=False)\n",
    "    x_train = dv.fit_transform(dicts)\n",
    "\n",
    "    model =LogisticRegression(solver='lbfgs')\n",
    "    model.fit(x_train, y_train)\n",
    "    \n",
    "    return dv, model\n",
    "\n",
    "\n",
    "def final_predict(df_test, dv, model):\n",
    "    dicts = df_test.to_dict(orient='records')\n",
    "\n",
    "    x_test = dv.transform(dicts)\n",
    "    y_pred = model.predict_proba(x_test)[:, 1]\n",
    "\n",
    "    return y_pred"
   ]
  },
  {
   "cell_type": "code",
   "execution_count": 78,
   "id": "28d226ef",
   "metadata": {},
   "outputs": [],
   "source": [
    "dv, model = final_train(df_full_train, df_full_train.heartdisease.values, C=1.0)\n",
    "y_pred = final_predict(df_test, dv, model)"
   ]
  },
  {
   "cell_type": "code",
   "execution_count": 79,
   "id": "4e56d5f5",
   "metadata": {},
   "outputs": [
    {
     "data": {
      "text/plain": [
       "(DictVectorizer(sparse=False),\n",
       " LogisticRegression(),\n",
       " array([0.0307553 , 0.06537364, 0.10107953, 0.11774189, 0.10800161,\n",
       "        0.01152294, 0.02968033, 0.01850221, 0.00348691, 0.05597918,\n",
       "        0.00583541, 0.04093303, 0.02947475, 0.08848459, 0.05649997,\n",
       "        0.00569331, 0.11170878, 0.00906147, 0.12624104, 0.06573996,\n",
       "        0.05060579, 0.00384789, 0.1480272 , 0.00392683, 0.04658428,\n",
       "        0.06178611, 0.02002091, 0.06227891, 0.04754403, 0.00750029,\n",
       "        0.00397516, 0.01141198, 0.01181198, 0.00403013, 0.11184241,\n",
       "        0.14493522, 0.08572146, 0.15658897, 0.00499773, 0.01900655,\n",
       "        0.06448702, 0.06894632, 0.08832377, 0.03018769, 0.00390633,\n",
       "        0.00384675, 0.10805541, 0.01019915, 0.00668095, 0.07167736,\n",
       "        0.0067776 , 0.10374594, 0.23368948, 0.01057534, 0.06429625,\n",
       "        0.01104826, 0.09020229, 0.00617037, 0.05063828, 0.01429305,\n",
       "        0.17257731, 0.041715  , 0.03227917, 0.0231315 , 0.01080884,\n",
       "        0.10037115, 0.10075446, 0.07466513, 0.00428424, 0.12046126,\n",
       "        0.15517862, 0.00546029, 0.12759911, 0.07738864, 0.00455985,\n",
       "        0.11647481, 0.00599493, 0.06490939, 0.13339468, 0.06271074,\n",
       "        0.19664023, 0.10972946, 0.09564709, 0.0645573 , 0.09262484,\n",
       "        0.12742288, 0.01168034, 0.01588861, 0.0164919 , 0.01013174,\n",
       "        0.16965242, 0.09855785, 0.00862447, 0.05812516, 0.11512138,\n",
       "        0.07652041, 0.12263953, 0.09752469, 0.06051408, 0.0379887 ,\n",
       "        0.0307252 , 0.00544922, 0.08297353, 0.02955839, 0.09663696,\n",
       "        0.00832672, 0.00715262, 0.03757534, 0.17705213, 0.00939406,\n",
       "        0.00804489, 0.13866009, 0.00907598, 0.0133331 , 0.00489092,\n",
       "        0.00797872, 0.10181839, 0.00398622, 0.01335938, 0.05379839,\n",
       "        0.0780467 , 0.04115465, 0.10483735, 0.01308439, 0.24868542,\n",
       "        0.02829664, 0.11097808, 0.01257644, 0.09875501, 0.07010677,\n",
       "        0.01151787, 0.05809529, 0.02168282, 0.14776823, 0.18972387,\n",
       "        0.04412174, 0.19596223, 0.11565543, 0.00886888, 0.10580776,\n",
       "        0.17226873, 0.0085551 , 0.00854594, 0.21400784, 0.07060648,\n",
       "        0.01759463, 0.0262692 , 0.0957589 , 0.01667644, 0.11813673,\n",
       "        0.13621894, 0.01969081, 0.00606602, 0.00554496, 0.00938943,\n",
       "        0.12959674, 0.00357869, 0.12947134, 0.06048458, 0.10318218,\n",
       "        0.02547446, 0.04737085, 0.09956132, 0.02748455, 0.07105955,\n",
       "        0.04074629, 0.01267229, 0.15151114, 0.17243268, 0.09941952,\n",
       "        0.01465773, 0.05205866, 0.11342517, 0.06634545, 0.05818254,\n",
       "        0.15762387, 0.01267498, 0.01996877, 0.13104275, 0.04055178,\n",
       "        0.03514741, 0.00670239, 0.00691257, 0.03836129]))"
      ]
     },
     "execution_count": 79,
     "metadata": {},
     "output_type": "execute_result"
    }
   ],
   "source": [
    "dv, model,y_pred"
   ]
  },
  {
   "cell_type": "code",
   "execution_count": 80,
   "id": "73e81950",
   "metadata": {},
   "outputs": [],
   "source": [
    "output_file =  'mid_term_model'"
   ]
  },
  {
   "cell_type": "code",
   "execution_count": 81,
   "id": "fd3dce87",
   "metadata": {
    "scrolled": true
   },
   "outputs": [
    {
     "name": "stdout",
     "output_type": "stream",
     "text": [
      "the model is saved to mid_term_model\n"
     ]
    }
   ],
   "source": [
    "with open(output_file,'wb')as f_out:\n",
    "    pickle.dump((dv,model),f_out)\n",
    "print(f'the model is saved to {output_file}')"
   ]
  },
  {
   "cell_type": "code",
   "execution_count": null,
   "id": "b5cd7aa4",
   "metadata": {},
   "outputs": [],
   "source": []
  }
 ],
 "metadata": {
  "kernelspec": {
   "display_name": "Python 3 (ipykernel)",
   "language": "python",
   "name": "python3"
  },
  "language_info": {
   "codemirror_mode": {
    "name": "ipython",
    "version": 3
   },
   "file_extension": ".py",
   "mimetype": "text/x-python",
   "name": "python",
   "nbconvert_exporter": "python",
   "pygments_lexer": "ipython3",
   "version": "3.9.18"
  }
 },
 "nbformat": 4,
 "nbformat_minor": 5
}
