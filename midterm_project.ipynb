{
 "cells": [
  {
   "cell_type": "code",
   "execution_count": null,
   "id": "869e927e",
   "metadata": {},
   "outputs": [],
   "source": [
    "import pandas as pd \n",
    "import numpy as np\n",
    "import matplotlib.pyplot as plt\n",
    "import seaborn as sns \n",
    "import pickle"
   ]
  },
  {
   "cell_type": "code",
   "execution_count": null,
   "id": "74254174",
   "metadata": {},
   "outputs": [],
   "source": [
    "from sklearn.model_selection import train_test_split\n",
    "from sklearn.metrics import mutual_info_score\n",
    "from sklearn.preprocessing import MinMaxScaler,StandardScaler\n",
    "from sklearn.feature_extraction import DictVectorizer\n",
    "from sklearn.linear_model import LogisticRegression\n",
    "from sklearn.metrics import roc_auc_score\n",
    "from sklearn.metrics import accuracy_score\n",
    "from sklearn.model_selection import KFold\n",
    "from sklearn.tree import DecisionTreeClassifier\n",
    "from sklearn.ensemble import RandomForestClassifier\n",
    "from sklearn.preprocessing import KBinsDiscretizer, LabelEncoder\n",
    "import xgboost as xgb"
   ]
  },
  {
   "cell_type": "code",
   "execution_count": null,
   "id": "73d86ccb",
   "metadata": {},
   "outputs": [],
   "source": [
    "raw_df = pd.read_csv('heart.csv')"
   ]
  },
  {
   "cell_type": "code",
   "execution_count": null,
   "id": "84c2d679",
   "metadata": {},
   "outputs": [],
   "source": [
    "raw_df.shape"
   ]
  },
  {
   "cell_type": "code",
   "execution_count": null,
   "id": "c688312f",
   "metadata": {},
   "outputs": [],
   "source": [
    "raw_df.columns = raw_df.columns.str.lower()"
   ]
  },
  {
   "cell_type": "code",
   "execution_count": null,
   "id": "6d53aff9",
   "metadata": {
    "scrolled": true
   },
   "outputs": [],
   "source": [
    "raw_df.columns "
   ]
  },
  {
   "cell_type": "code",
   "execution_count": null,
   "id": "59f577d3",
   "metadata": {
    "scrolled": true
   },
   "outputs": [],
   "source": [
    "raw_df.isnull().sum()"
   ]
  },
  {
   "cell_type": "code",
   "execution_count": null,
   "id": "96337564",
   "metadata": {
    "scrolled": true
   },
   "outputs": [],
   "source": [
    "raw_df.heartdisease.value_counts(normalize=True)"
   ]
  },
  {
   "cell_type": "code",
   "execution_count": null,
   "id": "b9f40284",
   "metadata": {},
   "outputs": [],
   "source": [
    "raw_df.heartdisease.mean()"
   ]
  },
  {
   "cell_type": "code",
   "execution_count": null,
   "id": "55bf14dd",
   "metadata": {},
   "outputs": [],
   "source": [
    "raw_df.nunique()"
   ]
  },
  {
   "cell_type": "code",
   "execution_count": null,
   "id": "370b271d",
   "metadata": {},
   "outputs": [],
   "source": [
    "raw_df.age.value_counts()"
   ]
  },
  {
   "cell_type": "markdown",
   "id": "e60d3b1d",
   "metadata": {},
   "source": [
    "# Data Scaling "
   ]
  },
  {
   "cell_type": "code",
   "execution_count": null,
   "id": "62674842",
   "metadata": {},
   "outputs": [],
   "source": [
    "\n",
    "mms = MinMaxScaler() # Normalization\n",
    "ss = StandardScaler() # Standardization\n",
    "\n",
    "raw_df['oldpeak'] = mms.fit_transform(raw_df[['oldpeak']])\n",
    "raw_df['age'] = ss.fit_transform(raw_df[['age']])\n",
    "raw_df['restingbp'] = ss.fit_transform(raw_df[['restingbp']])\n",
    "raw_df['cholesterol'] = ss.fit_transform(raw_df[['cholesterol']])\n",
    "raw_df['maxhr'] = ss.fit_transform(raw_df[['maxhr']])\n",
    "raw_df.head()"
   ]
  },
  {
   "cell_type": "markdown",
   "id": "842b9480",
   "metadata": {},
   "source": [
    "# Feature Analysis "
   ]
  },
  {
   "cell_type": "code",
   "execution_count": null,
   "id": "a87597ed",
   "metadata": {},
   "outputs": [],
   "source": [
    "df_full_train, df_test = train_test_split(raw_df, test_size=0.2, random_state=1)\n",
    "df_train, df_val = train_test_split(df_full_train, test_size=0.25, random_state=1)"
   ]
  },
  {
   "cell_type": "code",
   "execution_count": null,
   "id": "47b348fb",
   "metadata": {},
   "outputs": [],
   "source": [
    "len(df_train), len(df_val), len(df_test)"
   ]
  },
  {
   "cell_type": "code",
   "execution_count": null,
   "id": "bacaf696",
   "metadata": {},
   "outputs": [],
   "source": [
    "df_train = df_train.reset_index(drop=True)\n",
    "df_val = df_val.reset_index(drop=True)\n",
    "df_test = df_test.reset_index(drop=True)"
   ]
  },
  {
   "cell_type": "code",
   "execution_count": null,
   "id": "339bf4ff",
   "metadata": {},
   "outputs": [],
   "source": [
    "y_train = df_train.heartdisease .values\n",
    "y_val = df_val.heartdisease.values\n",
    "y_test = df_test.heartdisease.values\n",
    "\n",
    "del df_train['heartdisease']\n",
    "del df_val['heartdisease']\n",
    "del df_test['heartdisease']"
   ]
  },
  {
   "cell_type": "code",
   "execution_count": null,
   "id": "57e2c4f0",
   "metadata": {
    "scrolled": true
   },
   "outputs": [],
   "source": [
    "df_full_train.head(5)"
   ]
  },
  {
   "cell_type": "code",
   "execution_count": null,
   "id": "16bd9210",
   "metadata": {},
   "outputs": [],
   "source": [
    "df_full_train.heartdisease.value_counts()"
   ]
  },
  {
   "cell_type": "code",
   "execution_count": null,
   "id": "28194c20",
   "metadata": {},
   "outputs": [],
   "source": [
    "mutual_col = list(df_train.columns)\n",
    "mutual_col"
   ]
  },
  {
   "cell_type": "markdown",
   "id": "d1d5ee23",
   "metadata": {},
   "source": [
    "# Convert qualitative data to quantitative"
   ]
  },
  {
   "cell_type": "code",
   "execution_count": null,
   "id": "71887265",
   "metadata": {},
   "outputs": [],
   "source": [
    "categorical_columns = list(df_full_train.dtypes[df_full_train.dtypes == 'object'].index)\n",
    "categorical_columns"
   ]
  },
  {
   "cell_type": "code",
   "execution_count": null,
   "id": "7db10ba0",
   "metadata": {
    "scrolled": true
   },
   "outputs": [],
   "source": [
    "numerical_columns = list(df_full_train.dtypes[df_full_train.dtypes != 'object'].index)\n",
    "numerical_columns"
   ]
  },
  {
   "cell_type": "code",
   "execution_count": null,
   "id": "16b45a40",
   "metadata": {
    "scrolled": true
   },
   "outputs": [],
   "source": [
    "le = LabelEncoder() \n",
    "df_full_train[categorical_columns] = df_full_train[categorical_columns].apply(lambda col: le.fit_transform(col)) \n",
    "df_full_train.head(5)"
   ]
  },
  {
   "cell_type": "code",
   "execution_count": null,
   "id": "458b2552",
   "metadata": {
    "scrolled": true
   },
   "outputs": [],
   "source": [
    "mutual_scores = []\n",
    "for c in  df_full_train[mutual_col].columns: \n",
    "    score = round(mutual_info_score(df_full_train.heartdisease,df_full_train[c]),3)\n",
    "    mutual_scores.append(score)\n",
    "    print(f\"mutual score for {c} is {score}\")"
   ]
  },
  {
   "cell_type": "code",
   "execution_count": null,
   "id": "82356554",
   "metadata": {
    "scrolled": true
   },
   "outputs": [],
   "source": [
    "import matplotlib.pyplot as plt\n",
    "\n",
    "sorted_mutual_scores, sorted_mutual_col_names = zip(*sorted(zip(mutual_scores, mutual_col)))\n",
    "plt.bar(sorted_mutual_col_names, sorted_mutual_scores)\n",
    "plt.xlabel(\"Features\")\n",
    "plt.ylabel(\"Mutual Information Scores\")\n",
    "plt.title(\"Mutual Information Scores for Features\")\n",
    "plt.xticks(rotation='vertical')\n",
    "plt.show()"
   ]
  },
  {
   "cell_type": "markdown",
   "id": "0a81681a",
   "metadata": {},
   "source": [
    "# Feature importance: Heartdisease rate and risk ratio"
   ]
  },
  {
   "cell_type": "code",
   "execution_count": null,
   "id": "c454708f",
   "metadata": {
    "scrolled": true
   },
   "outputs": [],
   "source": [
    "for column in categorical_columns:\n",
    "    unique_categories = df_full_train[column].unique() # this is important\n",
    "    print(f\"Heart disease rate for {column}:\")\n",
    "    for category in unique_categories:\n",
    "        mean = df_full_train[df_full_train[column] == category].heartdisease.mean()\n",
    "        print(f\"{category}: {mean}\")\n",
    "    print(\"\\n\")"
   ]
  },
  {
   "cell_type": "markdown",
   "id": "491ecdac",
   "metadata": {},
   "source": [
    "# Risk Ratio"
   ]
  },
  {
   "cell_type": "code",
   "execution_count": null,
   "id": "bb4fd157",
   "metadata": {},
   "outputs": [],
   "source": [
    "global_heartdisease = df_full_train.heartdisease.mean()"
   ]
  },
  {
   "cell_type": "code",
   "execution_count": null,
   "id": "b5343ffd",
   "metadata": {},
   "outputs": [],
   "source": [
    "for c in categorical_columns:\n",
    "    print(c)\n",
    "    df_group = df_full_train.groupby(c).heartdisease.agg(['mean', 'count'])\n",
    "    df_group['diff'] = df_group['mean'] -global_heartdisease\n",
    "    df_group['risk'] = df_group['mean'] /global_heartdisease\n",
    "    df_group\n",
    "    print(df_group)\n",
    "    print()"
   ]
  },
  {
   "cell_type": "markdown",
   "id": "08266fd8",
   "metadata": {},
   "source": [
    "# Feature importance:Correlation"
   ]
  },
  {
   "cell_type": "code",
   "execution_count": null,
   "id": "e63dd816",
   "metadata": {},
   "outputs": [],
   "source": [
    "numeric_columns = list(df_full_train.dtypes[df_full_train.dtypes != 'object'].index)\n",
    "numeric_columns"
   ]
  },
  {
   "cell_type": "code",
   "execution_count": null,
   "id": "ec47e390",
   "metadata": {},
   "outputs": [],
   "source": [
    "data_numeric = df_full_train[numeric_columns]\n",
    "data_numeric.describe()"
   ]
  },
  {
   "cell_type": "code",
   "execution_count": null,
   "id": "e955c980",
   "metadata": {
    "scrolled": true
   },
   "outputs": [],
   "source": [
    "data_numeric.corr()"
   ]
  },
  {
   "cell_type": "code",
   "execution_count": null,
   "id": "ed2cc7e2",
   "metadata": {
    "scrolled": true
   },
   "outputs": [],
   "source": [
    "plt.figure(figsize=(9, 6))\n",
    "sns.heatmap(data_numeric.corr())\n",
    "plt.title('Heatmap showing correlations between numerical data')\n",
    "plt.show();"
   ]
  },
  {
   "cell_type": "code",
   "execution_count": null,
   "id": "bce62a00",
   "metadata": {},
   "outputs": [],
   "source": [
    "threshold = 0.1\n",
    "\n",
    "\n",
    "columns_to_drop = [col for col in df_full_train.columns if mutual_info_score(df_full_train.heartdisease,df_full_train[col])< threshold]\n",
    "\n",
    "\n",
    "df_full_train = df_full_train.drop(columns=columns_to_drop)\n",
    "df_full_train"
   ]
  },
  {
   "cell_type": "code",
   "execution_count": null,
   "id": "f0e7355e",
   "metadata": {},
   "outputs": [],
   "source": [
    "df_full_train, df_test = train_test_split(raw_df, test_size=0.2, random_state=1)\n",
    "df_train, df_val = train_test_split(df_full_train, test_size=0.25, random_state=1)\n",
    "df_train = df_train.reset_index(drop=True)\n",
    "df_val = df_val.reset_index(drop=True)\n",
    "df_test = df_test.reset_index(drop=True)\n",
    "y_train = df_train.heartdisease .values\n",
    "y_val = df_val.heartdisease.values\n",
    "y_test = df_test.heartdisease.values\n",
    "\n",
    "del df_train['heartdisease']\n",
    "del df_val['heartdisease']\n",
    "del df_test['heartdisease']"
   ]
  },
  {
   "cell_type": "markdown",
   "id": "67a02b9b",
   "metadata": {},
   "source": [
    "# One Hot Encoding"
   ]
  },
  {
   "cell_type": "code",
   "execution_count": null,
   "id": "435f7d53",
   "metadata": {},
   "outputs": [],
   "source": [
    "dv = DictVectorizer(sparse=False)\n",
    "\n",
    "train_dict = df_train.to_dict(orient='records')\n",
    "X_train = dv.fit_transform(train_dict)\n",
    "\n",
    "val_dict = df_val.to_dict(orient='records')\n",
    "X_val = dv.transform(val_dict)"
   ]
  },
  {
   "cell_type": "markdown",
   "id": "4be9feae",
   "metadata": {},
   "source": [
    "# Logistic Regression"
   ]
  },
  {
   "cell_type": "code",
   "execution_count": null,
   "id": "f93787ca",
   "metadata": {},
   "outputs": [],
   "source": [
    "model = LogisticRegression(solver='lbfgs')\n",
    "model.fit(X_train,y_train)"
   ]
  },
  {
   "cell_type": "code",
   "execution_count": null,
   "id": "82fae57c",
   "metadata": {},
   "outputs": [],
   "source": [
    "y_pred = model.predict_proba(X_val)[:, 1]"
   ]
  },
  {
   "cell_type": "code",
   "execution_count": null,
   "id": "b2911f23",
   "metadata": {},
   "outputs": [],
   "source": [
    "heartdisease_decision = (y_pred >= 0.5)"
   ]
  },
  {
   "cell_type": "code",
   "execution_count": null,
   "id": "b82799ea",
   "metadata": {},
   "outputs": [],
   "source": [
    "(y_val == heartdisease_decision).mean()"
   ]
  },
  {
   "cell_type": "code",
   "execution_count": null,
   "id": "cd6dd03f",
   "metadata": {
    "scrolled": true
   },
   "outputs": [],
   "source": [
    "df_pred = pd.DataFrame()\n",
    "df_pred['probability'] = y_pred\n",
    "df_pred['prediction'] = heartdisease_decision.astype(int)\n",
    "df_pred['actual'] = y_val\n",
    "df_pred"
   ]
  },
  {
   "cell_type": "markdown",
   "id": "33776cc1",
   "metadata": {},
   "source": [
    "# Logistic Regression Score"
   ]
  },
  {
   "cell_type": "code",
   "execution_count": null,
   "id": "9c4e1731",
   "metadata": {},
   "outputs": [],
   "source": [
    "roc_auc_score(y_val, y_pred)"
   ]
  },
  {
   "cell_type": "markdown",
   "id": "f7856e64",
   "metadata": {},
   "source": [
    "# Decision Tree "
   ]
  },
  {
   "cell_type": "code",
   "execution_count": null,
   "id": "e1dcf875",
   "metadata": {},
   "outputs": [],
   "source": [
    "df_full_train, df_test = train_test_split(raw_df, test_size=0.2, random_state=1)\n",
    "df_train, df_val = train_test_split(df_full_train, test_size=0.25, random_state=1)\n",
    "df_train = df_train.reset_index(drop=True)\n",
    "df_val = df_val.reset_index(drop=True)\n",
    "df_test = df_test.reset_index(drop=True)\n",
    "y_train = df_train.heartdisease .values\n",
    "y_val = df_val.heartdisease.values\n",
    "y_test = df_test.heartdisease.values\n",
    "\n",
    "del df_train['heartdisease']\n",
    "del df_val['heartdisease']\n",
    "del df_test['heartdisease']"
   ]
  },
  {
   "cell_type": "code",
   "execution_count": null,
   "id": "e7a6ca00",
   "metadata": {},
   "outputs": [],
   "source": [
    "scores = []\n",
    "depths = [4,5,6]\n",
    "\n",
    "for depth in depths: \n",
    "    for s in [1, 5, 10, 15, 20, 500, 100, 200]:\n",
    "        x_dict = df_train.to_dict(orient='records')\n",
    "        dv= DictVectorizer(sparse=False)\n",
    "        x_train = dv.fit_transform(x_dict)\n",
    "        dt = DecisionTreeClassifier(max_depth=depth, min_samples_leaf=s)\n",
    "        dt.fit(x_train, y_train)\n",
    "        val_dicts = df_val.to_dict(orient='records')\n",
    "        x_val = dv.transform(val_dicts)\n",
    "        y_pred = dt.predict_proba(x_val)[:, 1]\n",
    "        auc = roc_auc_score(y_val, y_pred)\n",
    "\n",
    "        scores.append((depth, s, auc))"
   ]
  },
  {
   "cell_type": "code",
   "execution_count": null,
   "id": "5ccdcd8f",
   "metadata": {},
   "outputs": [],
   "source": [
    "columns = ['max_depth', 'min_samples_leaf', 'auc']\n",
    "df_scores = pd.DataFrame(scores, columns=columns)"
   ]
  },
  {
   "cell_type": "code",
   "execution_count": null,
   "id": "3f1251e9",
   "metadata": {},
   "outputs": [],
   "source": [
    "df_scores_pivot = df_scores.pivot(index='min_samples_leaf', columns=['max_depth'], values=['auc'])\n",
    "df_scores_pivot.round(3)"
   ]
  },
  {
   "cell_type": "code",
   "execution_count": null,
   "id": "3c8155f8",
   "metadata": {
    "scrolled": true
   },
   "outputs": [],
   "source": [
    "sns.heatmap(df_scores_pivot, fmt=\".3f\");"
   ]
  },
  {
   "cell_type": "code",
   "execution_count": null,
   "id": "14819918",
   "metadata": {
    "scrolled": true
   },
   "outputs": [],
   "source": [
    "dt = DecisionTreeClassifier(max_depth=5, min_samples_leaf=5)\n",
    "dt.fit(X_train, y_train)"
   ]
  },
  {
   "cell_type": "markdown",
   "id": "4744a738",
   "metadata": {},
   "source": [
    "# Decision Tree Score"
   ]
  },
  {
   "cell_type": "code",
   "execution_count": null,
   "id": "248b502c",
   "metadata": {},
   "outputs": [],
   "source": [
    "val_dicts = df_val.to_dict(orient='records')\n",
    "x_val = dv.transform(val_dicts)\n",
    "y_pred = dt.predict_proba(x_val)[:, 1]\n",
    "auc = roc_auc_score(y_val, y_pred)\n",
    "auc"
   ]
  },
  {
   "cell_type": "markdown",
   "id": "eeabb00e",
   "metadata": {},
   "source": [
    "# Random Forest Classifier"
   ]
  },
  {
   "cell_type": "code",
   "execution_count": null,
   "id": "a57c1970",
   "metadata": {},
   "outputs": [],
   "source": [
    "df_full_train, df_test = train_test_split(raw_df, test_size=0.2, random_state=1)\n",
    "df_train, df_val = train_test_split(df_full_train, test_size=0.25, random_state=1)\n",
    "df_train = df_train.reset_index(drop=True)\n",
    "df_val = df_val.reset_index(drop=True)\n",
    "df_test = df_test.reset_index(drop=True)\n",
    "y_train = df_train.heartdisease .values\n",
    "y_val = df_val.heartdisease.values\n",
    "y_test = df_test.heartdisease.values\n",
    "\n",
    "del df_train['heartdisease']\n",
    "del df_val['heartdisease']\n",
    "del df_test['heartdisease']"
   ]
  },
  {
   "cell_type": "code",
   "execution_count": null,
   "id": "b4df97e8",
   "metadata": {},
   "outputs": [],
   "source": [
    "scores = []\n",
    "\n",
    "for d in [5, 10, 15]:\n",
    "    for n in range(10, 201, 10):\n",
    "        rf = RandomForestClassifier(n_estimators=n,\n",
    "                                    max_depth=d,\n",
    "                                    random_state=1)\n",
    "        rf.fit(X_train, y_train)\n",
    "\n",
    "        y_pred = rf.predict_proba(X_val)[:, 1]\n",
    "        auc = roc_auc_score(y_val, y_pred)\n",
    "\n",
    "        scores.append((d, n, auc))"
   ]
  },
  {
   "cell_type": "code",
   "execution_count": null,
   "id": "582d21d9",
   "metadata": {},
   "outputs": [],
   "source": [
    "columns = ['max_depth', 'n_estimators', 'auc']\n",
    "df_scores = pd.DataFrame(scores, columns=columns)"
   ]
  },
  {
   "cell_type": "code",
   "execution_count": null,
   "id": "b86ec7b0",
   "metadata": {},
   "outputs": [],
   "source": [
    "df_scores_pivot = df_scores.pivot(index='n_estimators', columns=['max_depth'], values=['auc'])\n",
    "df_scores_pivot.round(3)"
   ]
  },
  {
   "cell_type": "code",
   "execution_count": null,
   "id": "e4fa2ea3",
   "metadata": {},
   "outputs": [],
   "source": [
    "sns.heatmap(df_scores_pivot, fmt=\".3f\");"
   ]
  },
  {
   "cell_type": "code",
   "execution_count": null,
   "id": "251076e6",
   "metadata": {},
   "outputs": [],
   "source": [
    "for d in [5, 10, 15]:\n",
    "    df_subset = df_scores[df_scores.max_depth == d]\n",
    "    \n",
    "    plt.plot(df_subset.n_estimators, df_subset.auc,\n",
    "             label='max_depth=%d' % d)\n",
    "\n",
    "plt.legend();"
   ]
  },
  {
   "cell_type": "code",
   "execution_count": null,
   "id": "02829d33",
   "metadata": {},
   "outputs": [],
   "source": [
    "max_depth = 15"
   ]
  },
  {
   "cell_type": "code",
   "execution_count": null,
   "id": "643e05f2",
   "metadata": {},
   "outputs": [],
   "source": [
    "scores = []\n",
    "\n",
    "for s in [1, 3, 5, 10, 50]:\n",
    "    for n in range(10, 201, 10):\n",
    "        rf = RandomForestClassifier(n_estimators=n,\n",
    "                                    max_depth=max_depth,\n",
    "                                    min_samples_leaf=s,\n",
    "                                    random_state=1)\n",
    "        rf.fit(X_train, y_train)\n",
    "\n",
    "        y_pred = rf.predict_proba(X_val)[:, 1]\n",
    "        auc = roc_auc_score(y_val, y_pred)\n",
    "\n",
    "        scores.append((s, n, auc))"
   ]
  },
  {
   "cell_type": "code",
   "execution_count": null,
   "id": "82ee263e",
   "metadata": {},
   "outputs": [],
   "source": [
    "columns = ['min_samples_leaf', 'n_estimators', 'auc']\n",
    "df_scores = pd.DataFrame(scores, columns=columns)"
   ]
  },
  {
   "cell_type": "code",
   "execution_count": null,
   "id": "5a5e1532",
   "metadata": {},
   "outputs": [],
   "source": [
    "sns.heatmap(df_scores_pivot, fmt=\".3f\");"
   ]
  },
  {
   "cell_type": "code",
   "execution_count": null,
   "id": "e493d42a",
   "metadata": {},
   "outputs": [],
   "source": [
    "colors = ['black', 'blue', 'orange', 'red', 'grey']\n",
    "values = [1, 3, 5, 10, 50]\n",
    "\n",
    "for s, col in zip(values, colors):\n",
    "    df_subset = df_scores[df_scores.min_samples_leaf == s]\n",
    "    \n",
    "    plt.plot(df_subset.n_estimators, df_subset.auc,\n",
    "             color=col,\n",
    "             label='min_samples_leaf=%d' % s)\n",
    "\n",
    "plt.legend();"
   ]
  },
  {
   "cell_type": "code",
   "execution_count": null,
   "id": "74e5b509",
   "metadata": {},
   "outputs": [],
   "source": [
    "min_samples_leaf = 3"
   ]
  },
  {
   "cell_type": "code",
   "execution_count": null,
   "id": "ef182a70",
   "metadata": {},
   "outputs": [],
   "source": [
    "scores = []\n",
    "for n in range(10, 201, 10):\n",
    "        rf = RandomForestClassifier(n_estimators=n,\n",
    "                                    max_depth=max_depth,\n",
    "                                    min_samples_leaf=min_samples_leaf,\n",
    "                                    random_state=1)\n",
    "        rf.fit(X_train, y_train)\n",
    "\n",
    "        y_pred = rf.predict_proba(X_val)[:, 1]\n",
    "        auc = roc_auc_score(y_val, y_pred)\n",
    "\n",
    "        scores.append((s, n, auc))"
   ]
  },
  {
   "cell_type": "code",
   "execution_count": null,
   "id": "7727c7a0",
   "metadata": {},
   "outputs": [],
   "source": [
    "columns = ['max_depth', 'min_samples_leaf', 'auc']\n",
    "df_scores = pd.DataFrame(scores, columns=columns)"
   ]
  },
  {
   "cell_type": "code",
   "execution_count": null,
   "id": "c815e55b",
   "metadata": {
    "scrolled": true
   },
   "outputs": [],
   "source": [
    "rf = RandomForestClassifier(n_estimators=200,\n",
    "                            max_depth=max_depth,\n",
    "                            min_samples_leaf=min_samples_leaf,random_state=1)\n",
    "\n",
    "rf.fit(x_train, y_train)"
   ]
  },
  {
   "cell_type": "markdown",
   "id": "d91a1e72",
   "metadata": {},
   "source": [
    "# Random Forest Score"
   ]
  },
  {
   "cell_type": "code",
   "execution_count": null,
   "id": "314ac595",
   "metadata": {},
   "outputs": [],
   "source": [
    "y_pred = rf.predict_proba(X_val)[:, 1]\n",
    "auc = roc_auc_score(y_val, y_pred)\n",
    "auc"
   ]
  },
  {
   "cell_type": "markdown",
   "id": "12c887e4",
   "metadata": {},
   "source": [
    "# Gradient boosting and XGBoost"
   ]
  },
  {
   "cell_type": "code",
   "execution_count": null,
   "id": "c940fa43",
   "metadata": {},
   "outputs": [],
   "source": [
    "df_full_train, df_test = train_test_split(raw_df, test_size=0.2, random_state=1)\n",
    "df_train, df_val = train_test_split(df_full_train, test_size=0.25, random_state=1)\n",
    "df_train = df_train.reset_index(drop=True)\n",
    "df_val = df_val.reset_index(drop=True)\n",
    "df_test = df_test.reset_index(drop=True)\n",
    "y_train = df_train.heartdisease .values\n",
    "y_val = df_val.heartdisease.values\n",
    "y_test = df_test.heartdisease.values\n",
    "\n",
    "del df_train['heartdisease']\n",
    "del df_val['heartdisease']\n",
    "del df_test['heartdisease']"
   ]
  },
  {
   "cell_type": "code",
   "execution_count": null,
   "id": "1f208c16",
   "metadata": {},
   "outputs": [],
   "source": [
    "x_dict = df_train.to_dict(orient='records')\n",
    "dv= DictVectorizer(sparse=False)\n",
    "x_train = dv.fit_transform(x_dict)\n",
    "val_dicts = df_val.to_dict(orient='records')\n",
    "x_val = dv.transform(val_dicts)"
   ]
  },
  {
   "cell_type": "code",
   "execution_count": null,
   "id": "4e4dc142",
   "metadata": {},
   "outputs": [],
   "source": [
    "features = dv.get_feature_names_out()\n",
    "features"
   ]
  },
  {
   "cell_type": "code",
   "execution_count": null,
   "id": "fa9496c3",
   "metadata": {},
   "outputs": [],
   "source": [
    "features = dv.get_feature_names_out()\n",
    "features = features.tolist()\n",
    "dtrain = xgb.DMatrix(x_train, label=y_train, feature_names=features)\n",
    "dval = xgb.DMatrix(x_val, label=y_val, feature_names=features)"
   ]
  },
  {
   "cell_type": "code",
   "execution_count": null,
   "id": "56bcbe3f",
   "metadata": {},
   "outputs": [],
   "source": [
    "xgb_params = {\n",
    "    'eta': 0.3, \n",
    "    'max_depth': 6,\n",
    "    'min_child_weight': 1,\n",
    "    \n",
    "    'objective': 'binary:logistic',\n",
    "    'nthread': 8,\n",
    "    \n",
    "    'seed': 1,\n",
    "    'verbosity': 1,\n",
    "}\n",
    "\n",
    "model = xgb.train(xgb_params, dtrain, num_boost_round=10)"
   ]
  },
  {
   "cell_type": "code",
   "execution_count": null,
   "id": "84b0c6ad",
   "metadata": {},
   "outputs": [],
   "source": [
    "y_pred = model.predict(dval)\n",
    "roc_auc_score(y_val, y_pred)"
   ]
  },
  {
   "cell_type": "code",
   "execution_count": null,
   "id": "6e788d0b",
   "metadata": {},
   "outputs": [],
   "source": [
    "watchlist = [(dtrain, 'train'), (dval, 'val')]"
   ]
  },
  {
   "cell_type": "code",
   "execution_count": null,
   "id": "649abc88",
   "metadata": {},
   "outputs": [],
   "source": [
    "%%capture output\n",
    "\n",
    "xgb_params = {\n",
    "    'eta': 0.3, \n",
    "    'max_depth': 6,\n",
    "    'min_child_weight': 1,\n",
    "    \n",
    "    'objective': 'binary:logistic',\n",
    "    'eval_metric': 'auc',\n",
    "\n",
    "    'nthread': 8,\n",
    "    'seed': 1,\n",
    "    'verbosity': 1,\n",
    "}\n",
    "\n",
    "model = xgb.train(xgb_params, dtrain, num_boost_round=10,\n",
    "                  verbose_eval=5,\n",
    "                  evals=watchlist)\n",
    "y_pred = model.predict(dval)"
   ]
  },
  {
   "cell_type": "markdown",
   "id": "95d7f4e3",
   "metadata": {},
   "source": [
    "# Gradient boosting and XGBoost Score"
   ]
  },
  {
   "cell_type": "code",
   "execution_count": null,
   "id": "a9ddf4c7",
   "metadata": {},
   "outputs": [],
   "source": [
    "roc_auc_score(y_val, y_pred)"
   ]
  },
  {
   "cell_type": "code",
   "execution_count": null,
   "id": "8a3dfda7",
   "metadata": {},
   "outputs": [],
   "source": [
    "s = output.stdout"
   ]
  },
  {
   "cell_type": "code",
   "execution_count": null,
   "id": "3bf25ce4",
   "metadata": {
    "scrolled": true
   },
   "outputs": [],
   "source": [
    "print(s[:200])"
   ]
  },
  {
   "cell_type": "code",
   "execution_count": null,
   "id": "c3519792",
   "metadata": {},
   "outputs": [],
   "source": [
    "def parse(output):\n",
    "    scores = []\n",
    "    for line in output.stdout.strip().split('\\n'):\n",
    "            a,b,c = line.split('\\t')\n",
    "            itr = int(a.strip('[]'))\n",
    "            train = float(b.split(':')[1])\n",
    "            val = float(c.split(':')[1])\n",
    "            \n",
    "            scores.append((itr,train,val))\n",
    "    columns = ['iteration','train_auc','val_auc']\n",
    "    df_scores = pd.DataFrame(scores,columns=columns)\n",
    "    return df_scores"
   ]
  },
  {
   "cell_type": "code",
   "execution_count": null,
   "id": "3e284cda",
   "metadata": {},
   "outputs": [],
   "source": [
    "df_score = parse(output)"
   ]
  },
  {
   "cell_type": "code",
   "execution_count": null,
   "id": "4d178756",
   "metadata": {},
   "outputs": [],
   "source": [
    "plt.plot(df_score.iteration, df_score.train_auc, label='train')\n",
    "plt.plot(df_score.iteration, df_score.val_auc, label='val')\n",
    "plt.legend();"
   ]
  },
  {
   "cell_type": "code",
   "execution_count": null,
   "id": "bbe77b96",
   "metadata": {},
   "outputs": [],
   "source": [
    "def final_train(df_train, y_train, C=1.0):\n",
    "    dicts = df_train.to_dict(orient='records')\n",
    "\n",
    "    dv = DictVectorizer(sparse=False)\n",
    "    x_train = dv.fit_transform(dicts)\n",
    "\n",
    "    model =LogisticRegression(solver='lbfgs')\n",
    "    model.fit(x_train, y_train)\n",
    "    \n",
    "    return dv, model\n",
    "\n",
    "\n",
    "def final_predict(df_test, dv, model):\n",
    "    dicts = df_test.to_dict(orient='records')\n",
    "\n",
    "    x_test = dv.transform(dicts)\n",
    "    y_pred = model.predict_proba(x_test)[:, 1]\n",
    "\n",
    "    return y_pred"
   ]
  },
  {
   "cell_type": "code",
   "execution_count": null,
   "id": "28d226ef",
   "metadata": {},
   "outputs": [],
   "source": [
    "dv, model = final_train(df_full_train, df_full_train.heartdisease.values, C=1.0)\n",
    "y_pred = final_predict(df_test, dv, model)"
   ]
  },
  {
   "cell_type": "code",
   "execution_count": null,
   "id": "4e56d5f5",
   "metadata": {},
   "outputs": [],
   "source": [
    "dv, model,y_pred"
   ]
  },
  {
   "cell_type": "code",
   "execution_count": null,
   "id": "73e81950",
   "metadata": {},
   "outputs": [],
   "source": [
    "output_file =  'mid_term_model'"
   ]
  },
  {
   "cell_type": "code",
   "execution_count": null,
   "id": "fd3dce87",
   "metadata": {
    "scrolled": true
   },
   "outputs": [],
   "source": [
    "with open(output_file,'wb')as f_out:\n",
    "    pickle.dump((dv,model),f_out)\n",
    "print(f'the model is saved to {output_file}')"
   ]
  },
  {
   "cell_type": "code",
   "execution_count": null,
   "id": "b5cd7aa4",
   "metadata": {},
   "outputs": [],
   "source": []
  }
 ],
 "metadata": {
  "kernelspec": {
   "display_name": "Python 3 (ipykernel)",
   "language": "python",
   "name": "python3"
  },
  "language_info": {
   "codemirror_mode": {
    "name": "ipython",
    "version": 3
   },
   "file_extension": ".py",
   "mimetype": "text/x-python",
   "name": "python",
   "nbconvert_exporter": "python",
   "pygments_lexer": "ipython3",
   "version": "3.9.18"
  }
 },
 "nbformat": 4,
 "nbformat_minor": 5
}
