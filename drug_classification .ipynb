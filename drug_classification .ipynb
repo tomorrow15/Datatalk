{
 "cells": [
  {
   "cell_type": "code",
   "execution_count": 6,
   "id": "f402ff6c",
   "metadata": {},
   "outputs": [],
   "source": [
    "import numpy as np \n",
    "import pandas as pd \n",
    "import matplotlib.pyplot as plt \n",
    "import seaborn as sns \n",
    "import tensorflow as tf \n",
    "import os \n",
    "from imblearn.over_sampling import SMOTE"
   ]
  },
  {
   "cell_type": "code",
   "execution_count": 7,
   "id": "3b850fac",
   "metadata": {},
   "outputs": [],
   "source": [
    "from sklearn.model_selection import train_test_split\n",
    "from sklearn.feature_extraction import DictVectorizer\n",
    "from sklearn.linear_model import LogisticRegression\n",
    "from sklearn.tree import DecisionTreeClassifier\n",
    "from sklearn.ensemble import RandomForestClassifier\n",
    "import xgboost as xgb\n",
    "from sklearn.metrics import classification_report, confusion_matrix\n",
    "from sklearn.metrics import accuracy_score"
   ]
  },
  {
   "cell_type": "code",
   "execution_count": 9,
   "id": "9f759e7c",
   "metadata": {},
   "outputs": [],
   "source": [
    "df = pd.read_csv('C:/Users/mulin/drug.csv')"
   ]
  },
  {
   "cell_type": "code",
   "execution_count": 10,
   "id": "e11bbfaa",
   "metadata": {},
   "outputs": [],
   "source": [
    "df.columns = df.columns.str.lower()"
   ]
  },
  {
   "cell_type": "code",
   "execution_count": 11,
   "id": "002bad65",
   "metadata": {},
   "outputs": [],
   "source": [
    "cat_col = list(df.dtypes[df.dtypes=='object'].index)"
   ]
  },
  {
   "cell_type": "code",
   "execution_count": 12,
   "id": "b0f704cb",
   "metadata": {},
   "outputs": [],
   "source": [
    "num_col = list(df.dtypes[df.dtypes!='object'].index)"
   ]
  },
  {
   "cell_type": "code",
   "execution_count": 13,
   "id": "44de8d09",
   "metadata": {
    "scrolled": true
   },
   "outputs": [
    {
     "data": {
      "text/plain": [
       "(200, 6)"
      ]
     },
     "execution_count": 13,
     "metadata": {},
     "output_type": "execute_result"
    }
   ],
   "source": [
    "df.shape"
   ]
  },
  {
   "cell_type": "markdown",
   "id": "137c9fd4",
   "metadata": {},
   "source": [
    "# EDA"
   ]
  },
  {
   "cell_type": "code",
   "execution_count": 14,
   "id": "b02f1974",
   "metadata": {
    "scrolled": true
   },
   "outputs": [
    {
     "data": {
      "text/plain": [
       "age            0\n",
       "sex            0\n",
       "bp             0\n",
       "cholesterol    0\n",
       "na_to_k        0\n",
       "drug           0\n",
       "dtype: int64"
      ]
     },
     "execution_count": 14,
     "metadata": {},
     "output_type": "execute_result"
    }
   ],
   "source": [
    "df.isnull().sum()"
   ]
  },
  {
   "cell_type": "code",
   "execution_count": 15,
   "id": "442f346d",
   "metadata": {
    "scrolled": false
   },
   "outputs": [
    {
     "data": {
      "text/plain": [
       "age              int64\n",
       "sex             object\n",
       "bp              object\n",
       "cholesterol     object\n",
       "na_to_k        float64\n",
       "drug            object\n",
       "dtype: object"
      ]
     },
     "execution_count": 15,
     "metadata": {},
     "output_type": "execute_result"
    }
   ],
   "source": [
    "df.dtypes"
   ]
  },
  {
   "cell_type": "markdown",
   "id": "63c79496",
   "metadata": {},
   "source": [
    "Categorical columns"
   ]
  },
  {
   "cell_type": "code",
   "execution_count": 16,
   "id": "60c3e81a",
   "metadata": {},
   "outputs": [],
   "source": [
    "for c in cat_col:\n",
    "     df[c] = df[c].str.lower().str.replace(' ', '_')"
   ]
  },
  {
   "cell_type": "code",
   "execution_count": 17,
   "id": "1fb3d6d0",
   "metadata": {
    "scrolled": true
   },
   "outputs": [
    {
     "name": "stdout",
     "output_type": "stream",
     "text": [
      "m    104\n",
      "f     96\n",
      "Name: sex, dtype: int64\n",
      " \n",
      "high      77\n",
      "low       64\n",
      "normal    59\n",
      "Name: bp, dtype: int64\n",
      " \n",
      "high      103\n",
      "normal     97\n",
      "Name: cholesterol, dtype: int64\n",
      " \n",
      "drugy    91\n",
      "drugx    54\n",
      "druga    23\n",
      "drugc    16\n",
      "drugb    16\n",
      "Name: drug, dtype: int64\n",
      " \n"
     ]
    }
   ],
   "source": [
    "for c in cat_col:\n",
    "    print(df[c].value_counts())\n",
    "    print(' ')"
   ]
  },
  {
   "cell_type": "markdown",
   "id": "b7cdd58e",
   "metadata": {},
   "source": [
    "Numerical Column"
   ]
  },
  {
   "cell_type": "code",
   "execution_count": 18,
   "id": "8fa81599",
   "metadata": {},
   "outputs": [
    {
     "data": {
      "text/html": [
       "<div>\n",
       "<style scoped>\n",
       "    .dataframe tbody tr th:only-of-type {\n",
       "        vertical-align: middle;\n",
       "    }\n",
       "\n",
       "    .dataframe tbody tr th {\n",
       "        vertical-align: top;\n",
       "    }\n",
       "\n",
       "    .dataframe thead th {\n",
       "        text-align: right;\n",
       "    }\n",
       "</style>\n",
       "<table border=\"1\" class=\"dataframe\">\n",
       "  <thead>\n",
       "    <tr style=\"text-align: right;\">\n",
       "      <th></th>\n",
       "      <th>age</th>\n",
       "      <th>na_to_k</th>\n",
       "    </tr>\n",
       "  </thead>\n",
       "  <tbody>\n",
       "    <tr>\n",
       "      <th>count</th>\n",
       "      <td>200.000000</td>\n",
       "      <td>200.000000</td>\n",
       "    </tr>\n",
       "    <tr>\n",
       "      <th>mean</th>\n",
       "      <td>44.315000</td>\n",
       "      <td>16.084485</td>\n",
       "    </tr>\n",
       "    <tr>\n",
       "      <th>std</th>\n",
       "      <td>16.544315</td>\n",
       "      <td>7.223956</td>\n",
       "    </tr>\n",
       "    <tr>\n",
       "      <th>min</th>\n",
       "      <td>15.000000</td>\n",
       "      <td>6.269000</td>\n",
       "    </tr>\n",
       "    <tr>\n",
       "      <th>25%</th>\n",
       "      <td>31.000000</td>\n",
       "      <td>10.445500</td>\n",
       "    </tr>\n",
       "    <tr>\n",
       "      <th>50%</th>\n",
       "      <td>45.000000</td>\n",
       "      <td>13.936500</td>\n",
       "    </tr>\n",
       "    <tr>\n",
       "      <th>75%</th>\n",
       "      <td>58.000000</td>\n",
       "      <td>19.380000</td>\n",
       "    </tr>\n",
       "    <tr>\n",
       "      <th>max</th>\n",
       "      <td>74.000000</td>\n",
       "      <td>38.247000</td>\n",
       "    </tr>\n",
       "  </tbody>\n",
       "</table>\n",
       "</div>"
      ],
      "text/plain": [
       "              age     na_to_k\n",
       "count  200.000000  200.000000\n",
       "mean    44.315000   16.084485\n",
       "std     16.544315    7.223956\n",
       "min     15.000000    6.269000\n",
       "25%     31.000000   10.445500\n",
       "50%     45.000000   13.936500\n",
       "75%     58.000000   19.380000\n",
       "max     74.000000   38.247000"
      ]
     },
     "execution_count": 18,
     "metadata": {},
     "output_type": "execute_result"
    }
   ],
   "source": [
    "df.describe()"
   ]
  },
  {
   "cell_type": "code",
   "execution_count": 19,
   "id": "d7fd52df",
   "metadata": {},
   "outputs": [
    {
     "name": "stdout",
     "output_type": "stream",
     "text": [
      "{'age': 0.03030835703000607, 'na_to_k': 1.039341186028881}\n"
     ]
    }
   ],
   "source": [
    "skewness = {c:df[c].skew(axis=0) for c in num_col}\n",
    "print(skewness)"
   ]
  },
  {
   "cell_type": "code",
   "execution_count": 20,
   "id": "d2a3ab6f",
   "metadata": {},
   "outputs": [
    {
     "data": {
      "image/png": "[encoded data removed]",
      "text/plain": [
       "<Figure size 360x360 with 1 Axes>"
      ]
     },
     "metadata": {
      "needs_background": "light"
     },
     "output_type": "display_data"
    },
    {
     "data": {
      "image/png": "[encoded data removed]",
      "text/plain": [
       "<Figure size 360x360 with 1 Axes>"
      ]
     },
     "metadata": {
      "needs_background": "light"
     },
     "output_type": "display_data"
    }
   ],
   "source": [
    "for c in num_col:\n",
    "    sns.displot(df[c])"
   ]
  },
  {
   "cell_type": "code",
   "execution_count": 21,
   "id": "eb995008",
   "metadata": {},
   "outputs": [
    {
     "data": {
      "image/png": "[encoded data removed]",
      "text/plain": [
       "<Figure size 432x288 with 1 Axes>"
      ]
     },
     "metadata": {
      "needs_background": "light"
     },
     "output_type": "display_data"
    }
   ],
   "source": [
    "sns.countplot(y='sex',data=df,palette=\"husl\")\n",
    "plt.ylabel('gender')\n",
    "plt.xlabel('total')\n",
    "plt.show()"
   ]
  },
  {
   "cell_type": "code",
   "execution_count": 22,
   "id": "af93db80",
   "metadata": {
    "scrolled": true
   },
   "outputs": [
    {
     "data": {
      "image/png": "[encoded data removed]",
      "text/plain": [
       "<Figure size 432x288 with 1 Axes>"
      ]
     },
     "metadata": {
      "needs_background": "light"
     },
     "output_type": "display_data"
    }
   ],
   "source": [
    "sns.countplot(y='bp',data=df,palette=\"flare\")\n",
    "plt.ylabel('blood pressure')\n",
    "plt.xlabel('total')\n",
    "plt.show()"
   ]
  },
  {
   "cell_type": "code",
   "execution_count": 23,
   "id": "707a09ec",
   "metadata": {},
   "outputs": [
    {
     "data": {
      "image/png": "[encoded data removed]",
      "text/plain": [
       "<Figure size 432x288 with 1 Axes>"
      ]
     },
     "metadata": {
      "needs_background": "light"
     },
     "output_type": "display_data"
    }
   ],
   "source": [
    "sns.countplot(y='cholesterol',data=df)\n",
    "plt.ylabel('cholesterol')\n",
    "plt.xlabel('total')\n",
    "plt.show()"
   ]
  },
  {
   "cell_type": "code",
   "execution_count": 24,
   "id": "2ea4b704",
   "metadata": {
    "scrolled": true
   },
   "outputs": [
    {
     "data": {
      "image/png": "[encoded data removed]",
      "text/plain": [
       "<Figure size 432x288 with 1 Axes>"
      ]
     },
     "metadata": {
      "needs_background": "light"
     },
     "output_type": "display_data"
    }
   ],
   "source": [
    "sns.countplot(y='drug',data=df,palette='Spectral')\n",
    "plt.ylabel('drug type')\n",
    "plt.xlabel('total')\n",
    "plt.show()"
   ]
  },
  {
   "cell_type": "markdown",
   "id": "b58b621c",
   "metadata": {},
   "source": [
    "# Data Preprocessing"
   ]
  },
  {
   "cell_type": "code",
   "execution_count": 25,
   "id": "0b57813f",
   "metadata": {},
   "outputs": [],
   "source": [
    "age_bin = [0,19,29,39,49,59,69,80]\n",
    "age_category = ['<18','20','30','40','50','60','>60']\n",
    "df['age_cal']= pd.cut(df['age'],bins=age_bin,labels=age_category)\n",
    "df = df.drop(['age'],axis=1)"
   ]
  },
  {
   "cell_type": "code",
   "execution_count": 26,
   "id": "8a8ebfe7",
   "metadata": {},
   "outputs": [
    {
     "data": {
      "text/html": [
       "<div>\n",
       "<style scoped>\n",
       "    .dataframe tbody tr th:only-of-type {\n",
       "        vertical-align: middle;\n",
       "    }\n",
       "\n",
       "    .dataframe tbody tr th {\n",
       "        vertical-align: top;\n",
       "    }\n",
       "\n",
       "    .dataframe thead th {\n",
       "        text-align: right;\n",
       "    }\n",
       "</style>\n",
       "<table border=\"1\" class=\"dataframe\">\n",
       "  <thead>\n",
       "    <tr style=\"text-align: right;\">\n",
       "      <th></th>\n",
       "      <th>sex</th>\n",
       "      <th>bp</th>\n",
       "      <th>cholesterol</th>\n",
       "      <th>na_to_k</th>\n",
       "      <th>drug</th>\n",
       "      <th>age_cal</th>\n",
       "    </tr>\n",
       "  </thead>\n",
       "  <tbody>\n",
       "    <tr>\n",
       "      <th>0</th>\n",
       "      <td>f</td>\n",
       "      <td>high</td>\n",
       "      <td>high</td>\n",
       "      <td>25.355</td>\n",
       "      <td>drugy</td>\n",
       "      <td>20</td>\n",
       "    </tr>\n",
       "    <tr>\n",
       "      <th>1</th>\n",
       "      <td>m</td>\n",
       "      <td>low</td>\n",
       "      <td>high</td>\n",
       "      <td>13.093</td>\n",
       "      <td>drugc</td>\n",
       "      <td>40</td>\n",
       "    </tr>\n",
       "    <tr>\n",
       "      <th>2</th>\n",
       "      <td>m</td>\n",
       "      <td>low</td>\n",
       "      <td>high</td>\n",
       "      <td>10.114</td>\n",
       "      <td>drugc</td>\n",
       "      <td>40</td>\n",
       "    </tr>\n",
       "    <tr>\n",
       "      <th>3</th>\n",
       "      <td>f</td>\n",
       "      <td>normal</td>\n",
       "      <td>high</td>\n",
       "      <td>7.798</td>\n",
       "      <td>drugx</td>\n",
       "      <td>20</td>\n",
       "    </tr>\n",
       "    <tr>\n",
       "      <th>4</th>\n",
       "      <td>f</td>\n",
       "      <td>low</td>\n",
       "      <td>high</td>\n",
       "      <td>18.043</td>\n",
       "      <td>drugy</td>\n",
       "      <td>60</td>\n",
       "    </tr>\n",
       "  </tbody>\n",
       "</table>\n",
       "</div>"
      ],
      "text/plain": [
       "  sex      bp cholesterol  na_to_k   drug age_cal\n",
       "0   f    high        high   25.355  drugy      20\n",
       "1   m     low        high   13.093  drugc      40\n",
       "2   m     low        high   10.114  drugc      40\n",
       "3   f  normal        high    7.798  drugx      20\n",
       "4   f     low        high   18.043  drugy      60"
      ]
     },
     "execution_count": 26,
     "metadata": {},
     "output_type": "execute_result"
    }
   ],
   "source": [
    "df.head(5)"
   ]
  },
  {
   "cell_type": "code",
   "execution_count": 27,
   "id": "9c5a4da1",
   "metadata": {},
   "outputs": [],
   "source": [
    "chemical_bin = [0,9,19,29,50]\n",
    "chemical_category = ['<10','10-20','20-30','>30']\n",
    "df['chemical_cal'] = pd.cut(df['na_to_k'],bins=chemical_bin,labels=chemical_category)\n",
    "del df['na_to_k']"
   ]
  },
  {
   "cell_type": "code",
   "execution_count": 28,
   "id": "f70696e4",
   "metadata": {},
   "outputs": [
    {
     "data": {
      "text/html": [
       "<div>\n",
       "<style scoped>\n",
       "    .dataframe tbody tr th:only-of-type {\n",
       "        vertical-align: middle;\n",
       "    }\n",
       "\n",
       "    .dataframe tbody tr th {\n",
       "        vertical-align: top;\n",
       "    }\n",
       "\n",
       "    .dataframe thead th {\n",
       "        text-align: right;\n",
       "    }\n",
       "</style>\n",
       "<table border=\"1\" class=\"dataframe\">\n",
       "  <thead>\n",
       "    <tr style=\"text-align: right;\">\n",
       "      <th></th>\n",
       "      <th>sex</th>\n",
       "      <th>bp</th>\n",
       "      <th>cholesterol</th>\n",
       "      <th>drug</th>\n",
       "      <th>age_cal</th>\n",
       "      <th>chemical_cal</th>\n",
       "    </tr>\n",
       "  </thead>\n",
       "  <tbody>\n",
       "    <tr>\n",
       "      <th>0</th>\n",
       "      <td>f</td>\n",
       "      <td>high</td>\n",
       "      <td>high</td>\n",
       "      <td>drugy</td>\n",
       "      <td>20</td>\n",
       "      <td>20-30</td>\n",
       "    </tr>\n",
       "    <tr>\n",
       "      <th>1</th>\n",
       "      <td>m</td>\n",
       "      <td>low</td>\n",
       "      <td>high</td>\n",
       "      <td>drugc</td>\n",
       "      <td>40</td>\n",
       "      <td>10-20</td>\n",
       "    </tr>\n",
       "    <tr>\n",
       "      <th>2</th>\n",
       "      <td>m</td>\n",
       "      <td>low</td>\n",
       "      <td>high</td>\n",
       "      <td>drugc</td>\n",
       "      <td>40</td>\n",
       "      <td>10-20</td>\n",
       "    </tr>\n",
       "    <tr>\n",
       "      <th>3</th>\n",
       "      <td>f</td>\n",
       "      <td>normal</td>\n",
       "      <td>high</td>\n",
       "      <td>drugx</td>\n",
       "      <td>20</td>\n",
       "      <td>&lt;10</td>\n",
       "    </tr>\n",
       "    <tr>\n",
       "      <th>4</th>\n",
       "      <td>f</td>\n",
       "      <td>low</td>\n",
       "      <td>high</td>\n",
       "      <td>drugy</td>\n",
       "      <td>60</td>\n",
       "      <td>10-20</td>\n",
       "    </tr>\n",
       "  </tbody>\n",
       "</table>\n",
       "</div>"
      ],
      "text/plain": [
       "  sex      bp cholesterol   drug age_cal chemical_cal\n",
       "0   f    high        high  drugy      20        20-30\n",
       "1   m     low        high  drugc      40        10-20\n",
       "2   m     low        high  drugc      40        10-20\n",
       "3   f  normal        high  drugx      20          <10\n",
       "4   f     low        high  drugy      60        10-20"
      ]
     },
     "execution_count": 28,
     "metadata": {},
     "output_type": "execute_result"
    }
   ],
   "source": [
    "df.head(5)"
   ]
  },
  {
   "cell_type": "markdown",
   "id": "de02236f",
   "metadata": {},
   "source": [
    "# Validation Framework"
   ]
  },
  {
   "cell_type": "code",
   "execution_count": 29,
   "id": "78135c54",
   "metadata": {},
   "outputs": [],
   "source": [
    "X = df.drop([\"drug\"], axis=1)\n",
    "y = df[\"drug\"]\n",
    "\n",
    "df_train, df_test, y_train, y_test = train_test_split(X, y, test_size = 0.3, random_state = 1)"
   ]
  },
  {
   "cell_type": "code",
   "execution_count": 30,
   "id": "4f4a0c98",
   "metadata": {},
   "outputs": [
    {
     "data": {
      "text/plain": [
       "60"
      ]
     },
     "execution_count": 30,
     "metadata": {},
     "output_type": "execute_result"
    }
   ],
   "source": [
    "len(df_test)"
   ]
  },
  {
   "cell_type": "markdown",
   "id": "44efb270",
   "metadata": {},
   "source": [
    "# Feature Engineering"
   ]
  },
  {
   "cell_type": "code",
   "execution_count": 31,
   "id": "5f4a07c0",
   "metadata": {},
   "outputs": [],
   "source": [
    "from sklearn.feature_extraction import DictVectorizer"
   ]
  },
  {
   "cell_type": "code",
   "execution_count": 32,
   "id": "84c41706",
   "metadata": {},
   "outputs": [],
   "source": [
    "train_dicts = df_train.to_dict(orient='records')\n",
    "dv = DictVectorizer(sparse=False)\n",
    "X_train = dv.fit_transform(train_dicts)\n",
    "test_dicts = df_test.to_dict(orient='records')\n",
    "X_test = dv.transform(test_dicts)"
   ]
  },
  {
   "cell_type": "code",
   "execution_count": 33,
   "id": "9b098dd7",
   "metadata": {},
   "outputs": [
    {
     "data": {
      "text/plain": [
       "(140, 5)"
      ]
     },
     "execution_count": 33,
     "metadata": {},
     "output_type": "execute_result"
    }
   ],
   "source": [
    "df_train.shape"
   ]
  },
  {
   "cell_type": "code",
   "execution_count": 34,
   "id": "f8c38c2a",
   "metadata": {},
   "outputs": [
    {
     "data": {
      "text/plain": [
       "(140, 18)"
      ]
     },
     "execution_count": 34,
     "metadata": {},
     "output_type": "execute_result"
    }
   ],
   "source": [
    "X_train.shape"
   ]
  },
  {
   "cell_type": "code",
   "execution_count": 35,
   "id": "d81575b4",
   "metadata": {},
   "outputs": [
    {
     "data": {
      "text/plain": [
       "(60, 18)"
      ]
     },
     "execution_count": 35,
     "metadata": {},
     "output_type": "execute_result"
    }
   ],
   "source": [
    "X_test.shape"
   ]
  },
  {
   "cell_type": "markdown",
   "id": "55be71bd",
   "metadata": {},
   "source": [
    "# SMOTE "
   ]
  },
  {
   "cell_type": "code",
   "execution_count": 36,
   "id": "d646bcec",
   "metadata": {
    "scrolled": true
   },
   "outputs": [],
   "source": [
    "X_train_re,y_train_re = SMOTE().fit_resample(X_train,y_train)"
   ]
  },
  {
   "cell_type": "code",
   "execution_count": 37,
   "id": "7142ffff",
   "metadata": {},
   "outputs": [
    {
     "data": {
      "text/plain": [
       "(320, 18)"
      ]
     },
     "execution_count": 37,
     "metadata": {},
     "output_type": "execute_result"
    }
   ],
   "source": [
    "X_train_re.shape"
   ]
  },
  {
   "cell_type": "code",
   "execution_count": 38,
   "id": "a5b3efb0",
   "metadata": {},
   "outputs": [
    {
     "data": {
      "text/plain": [
       "(320,)"
      ]
     },
     "execution_count": 38,
     "metadata": {},
     "output_type": "execute_result"
    }
   ],
   "source": [
    "y_train_re.shape"
   ]
  },
  {
   "cell_type": "code",
   "execution_count": 39,
   "id": "3135d6de",
   "metadata": {
    "scrolled": true
   },
   "outputs": [
    {
     "data": {
      "image/png": "[encoded data removed]",
      "text/plain": [
       "<Figure size 432x288 with 1 Axes>"
      ]
     },
     "metadata": {
      "needs_background": "light"
     },
     "output_type": "display_data"
    }
   ],
   "source": [
    "sns.countplot(y=y_train_re,data=df)\n",
    "plt.ylabel('Drug Type')\n",
    "plt.xlabel('Total')\n",
    "plt.show()"
   ]
  },
  {
   "cell_type": "markdown",
   "id": "55ab1406",
   "metadata": {},
   "source": [
    "# Training Models"
   ]
  },
  {
   "cell_type": "markdown",
   "id": "670baa0e",
   "metadata": {},
   "source": [
    "Linear Regression"
   ]
  },
  {
   "cell_type": "code",
   "execution_count": 40,
   "id": "feb68ac9",
   "metadata": {},
   "outputs": [
    {
     "name": "stdout",
     "output_type": "stream",
     "text": [
      "              precision    recall  f1-score   support\n",
      "\n",
      "       druga       0.60      0.75      0.67         4\n",
      "       drugb       0.86      1.00      0.92         6\n",
      "       drugc       0.50      1.00      0.67         4\n",
      "       drugx       0.83      1.00      0.90        19\n",
      "       drugy       1.00      0.63      0.77        27\n",
      "\n",
      "    accuracy                           0.82        60\n",
      "   macro avg       0.76      0.88      0.79        60\n",
      "weighted avg       0.87      0.82      0.82        60\n",
      "\n",
      "[[ 3  1  0  0  0]\n",
      " [ 0  6  0  0  0]\n",
      " [ 0  0  4  0  0]\n",
      " [ 0  0  0 19  0]\n",
      " [ 2  0  4  4 17]]\n",
      "Logistic Regression accuracy is: 81.67%\n"
     ]
    }
   ],
   "source": [
    "lr = LogisticRegression(max_iter=5000)\n",
    "lr.fit(X_train_re, y_train_re)\n",
    "\n",
    "y_pred = lr.predict(X_test)\n",
    "print(classification_report(y_test, y_pred))\n",
    "print(confusion_matrix(y_test, y_pred))\n",
    "\n",
    "\n",
    "lr_acc = accuracy_score(y_pred,y_test)\n",
    "print('Logistic Regression accuracy is: {:.2f}%'.format(lr_acc*100))"
   ]
  },
  {
   "cell_type": "markdown",
   "id": "0409234e",
   "metadata": {},
   "source": [
    "Decision Tree"
   ]
  },
  {
   "cell_type": "code",
   "execution_count": 41,
   "id": "b9630d31",
   "metadata": {},
   "outputs": [
    {
     "name": "stdout",
     "output_type": "stream",
     "text": [
      "              precision    recall  f1-score   support\n",
      "\n",
      "       druga       0.50      0.75      0.60         4\n",
      "       drugb       0.60      1.00      0.75         6\n",
      "       drugc       0.50      0.75      0.60         4\n",
      "       drugx       0.83      1.00      0.90        19\n",
      "       drugy       0.93      0.52      0.67        27\n",
      "\n",
      "    accuracy                           0.75        60\n",
      "   macro avg       0.67      0.80      0.70        60\n",
      "weighted avg       0.81      0.75      0.74        60\n",
      "\n",
      "[[ 3  1  0  0  0]\n",
      " [ 0  6  0  0  0]\n",
      " [ 0  0  3  0  1]\n",
      " [ 0  0  0 19  0]\n",
      " [ 3  3  3  4 14]]\n",
      "Decision Tree accuracy is: 75.00%\n",
      " \n"
     ]
    }
   ],
   "source": [
    "dt_classifier = DecisionTreeClassifier( max_leaf_nodes=20)\n",
    "dt_classifier.fit(X_train_re, y_train_re)\n",
    "\n",
    "y_pred = dt_classifier.predict(X_test)\n",
    "\n",
    "print(classification_report(y_test, y_pred))\n",
    "print(confusion_matrix(y_test, y_pred))\n",
    "\n",
    "from sklearn.metrics import accuracy_score\n",
    "DTAcc = accuracy_score(y_pred,y_test)\n",
    "        \n",
    "print('Decision Tree accuracy is: {:.2f}%'.format(DTAcc*100))\n",
    "print(' ')"
   ]
  },
  {
   "cell_type": "code",
   "execution_count": 42,
   "id": "d837bca9",
   "metadata": {},
   "outputs": [
    {
     "data": {
      "image/png": "[encoded data removed]",
      "text/plain": [
       "<Figure size 432x288 with 1 Axes>"
      ]
     },
     "metadata": {
      "needs_background": "light"
     },
     "output_type": "display_data"
    },
    {
     "name": "stdout",
     "output_type": "stream",
     "text": [
      "DT Acc Max 65.00%\n"
     ]
    }
   ],
   "source": [
    "score_dt= []\n",
    "for i in range(2,50):\n",
    "    dt_classifier = DecisionTreeClassifier( max_leaf_nodes=50)\n",
    "    dt_classifier.fit(X_train_re, y_train_re)\n",
    "\n",
    "    y_pred = dt_classifier.predict(X_test)\n",
    "    score_dt.append(dt_classifier.score(X_test, y_test))\n",
    "    \n",
    "plt.plot(range(2,50), score_dt)\n",
    "plt.xticks(np.arange(2,50,5))\n",
    "plt.xlabel(\"Leaf\")\n",
    "plt.ylabel(\"Score\")\n",
    "plt.show()\n",
    "dt_acc_max = max(score_dt)\n",
    "print(\"DT Acc Max {:.2f}%\".format(dt_acc_max*100))"
   ]
  },
  {
   "cell_type": "markdown",
   "id": "90aac62e",
   "metadata": {},
   "source": [
    "Random Forest"
   ]
  },
  {
   "cell_type": "code",
   "execution_count": 43,
   "id": "35f371ab",
   "metadata": {},
   "outputs": [
    {
     "name": "stdout",
     "output_type": "stream",
     "text": [
      "              precision    recall  f1-score   support\n",
      "\n",
      "       druga       0.25      0.25      0.25         4\n",
      "       drugb       0.83      0.83      0.83         6\n",
      "       drugc       0.33      0.50      0.40         4\n",
      "       drugx       0.83      1.00      0.90        19\n",
      "       drugy       0.71      0.56      0.63        27\n",
      "\n",
      "    accuracy                           0.70        60\n",
      "   macro avg       0.59      0.63      0.60        60\n",
      "weighted avg       0.71      0.70      0.69        60\n",
      "\n",
      "[[ 1  0  0  0  3]\n",
      " [ 0  5  0  0  1]\n",
      " [ 0  0  2  0  2]\n",
      " [ 0  0  0 19  0]\n",
      " [ 3  1  4  4 15]]\n",
      "Random Forest accuracy is: 70.00%\n"
     ]
    }
   ],
   "source": [
    "rf = RandomForestClassifier(max_leaf_nodes=35)\n",
    "rf.fit(X_train_re, y_train_re)\n",
    "\n",
    "y_pred = rf.predict(X_test)\n",
    "\n",
    "print(classification_report(y_test, y_pred))\n",
    "print(confusion_matrix(y_test, y_pred))\n",
    "\n",
    "from sklearn.metrics import accuracy_score\n",
    "rf_acc = accuracy_score(y_pred,y_test)\n",
    "print('Random Forest accuracy is: {:.2f}%'.format(rf_acc*100))"
   ]
  },
  {
   "cell_type": "code",
   "execution_count": 44,
   "id": "489dd0ab",
   "metadata": {},
   "outputs": [
    {
     "data": {
      "image/png": "[encoded data removed]",
      "text/plain": [
       "<Figure size 432x288 with 1 Axes>"
      ]
     },
     "metadata": {
      "needs_background": "light"
     },
     "output_type": "display_data"
    },
    {
     "name": "stdout",
     "output_type": "stream",
     "text": [
      "RF Acc Max 80.00%\n"
     ]
    }
   ],
   "source": [
    "score_rf= []\n",
    "for i in range(2,50):\n",
    "    rf = RandomForestClassifier(n_estimators = 1000, random_state = 1, max_leaf_nodes=i)\n",
    "    rf.fit(X_train_re, y_train_re)\n",
    "    score_rf.append(rf.score(X_test, y_test))\n",
    "    \n",
    "plt.plot(range(2,50), score_rf)\n",
    "plt.xticks(np.arange(2,50,5))\n",
    "plt.xlabel(\"RF Value\")\n",
    "plt.ylabel(\"Score\")\n",
    "plt.show()\n",
    "rf_acc_max = max(score_rf)\n",
    "print(\"RF Acc Max {:.2f}%\".format(rf_acc_max *100))"
   ]
  },
  {
   "cell_type": "code",
   "execution_count": 45,
   "id": "28ddcb7c",
   "metadata": {
    "scrolled": false
   },
   "outputs": [
    {
     "data": {
      "text/html": [
       "<div>\n",
       "<style scoped>\n",
       "    .dataframe tbody tr th:only-of-type {\n",
       "        vertical-align: middle;\n",
       "    }\n",
       "\n",
       "    .dataframe tbody tr th {\n",
       "        vertical-align: top;\n",
       "    }\n",
       "\n",
       "    .dataframe thead th {\n",
       "        text-align: right;\n",
       "    }\n",
       "</style>\n",
       "<table border=\"1\" class=\"dataframe\">\n",
       "  <thead>\n",
       "    <tr style=\"text-align: right;\">\n",
       "      <th></th>\n",
       "      <th>Model</th>\n",
       "      <th>Accuracy</th>\n",
       "    </tr>\n",
       "  </thead>\n",
       "  <tbody>\n",
       "    <tr>\n",
       "      <th>0</th>\n",
       "      <td>Logistic Regression</td>\n",
       "      <td>81.666667</td>\n",
       "    </tr>\n",
       "    <tr>\n",
       "      <th>2</th>\n",
       "      <td>Random Forest</td>\n",
       "      <td>80.000000</td>\n",
       "    </tr>\n",
       "    <tr>\n",
       "      <th>1</th>\n",
       "      <td>Decision Tree</td>\n",
       "      <td>65.000000</td>\n",
       "    </tr>\n",
       "  </tbody>\n",
       "</table>\n",
       "</div>"
      ],
      "text/plain": [
       "                 Model   Accuracy\n",
       "0  Logistic Regression  81.666667\n",
       "2        Random Forest  80.000000\n",
       "1        Decision Tree  65.000000"
      ]
     },
     "execution_count": 45,
     "metadata": {},
     "output_type": "execute_result"
    }
   ],
   "source": [
    "compare = pd.DataFrame({'Model': ['Logistic Regression' ,'Decision Tree' ,'Random Forest'] ,\n",
    "                        'Accuracy': [lr_acc*100,dt_acc_max*100, rf_acc_max*100]})\n",
    "compare.sort_values(by='Accuracy', ascending=False)"
   ]
  },
  {
   "cell_type": "code",
   "execution_count": 46,
   "id": "c16569c3",
   "metadata": {},
   "outputs": [],
   "source": [
    "def train(df_train,y_train):\n",
    "    train_dicts = df_train.to_dict(orient='records')\n",
    "    dv = DictVectorizer(sparse=False)\n",
    "    X_train = dv.fit_transform(train_dicts)\n",
    "    X_train_re,y_train_re = SMOTE().fit_resample(X_train,y_train)\n",
    "    rf = RandomForestClassifier(n_estimators = 1000, random_state = 1, max_leaf_nodes=i)\n",
    "    rf.fit(X_train_re,y_train_re)\n",
    "    return dv,rf"
   ]
  },
  {
   "cell_type": "code",
   "execution_count": 47,
   "id": "d6a84b66",
   "metadata": {},
   "outputs": [
    {
     "data": {
      "text/plain": [
       "(DictVectorizer(sparse=False),\n",
       " RandomForestClassifier(max_leaf_nodes=49, n_estimators=1000, random_state=1))"
      ]
     },
     "execution_count": 47,
     "metadata": {},
     "output_type": "execute_result"
    }
   ],
   "source": [
    "train(df_train,y_train)"
   ]
  },
  {
   "cell_type": "code",
   "execution_count": 48,
   "id": "631c9376",
   "metadata": {},
   "outputs": [],
   "source": [
    "def test(df_test,dv,model):\n",
    "    test_dicts = df_test.to_dict(orient='records')\n",
    "    X_test = dv.transform(test_dicts)\n",
    "    print(classification_report(y_test, y_pred))\n",
    "    print(confusion_matrix(y_test, y_pred))\n",
    "    return y_pred"
   ]
  },
  {
   "cell_type": "code",
   "execution_count": 49,
   "id": "34804e30",
   "metadata": {},
   "outputs": [
    {
     "name": "stdout",
     "output_type": "stream",
     "text": [
      "              precision    recall  f1-score   support\n",
      "\n",
      "       druga       0.25      0.25      0.25         4\n",
      "       drugb       0.83      0.83      0.83         6\n",
      "       drugc       0.33      0.50      0.40         4\n",
      "       drugx       0.83      1.00      0.90        19\n",
      "       drugy       0.71      0.56      0.63        27\n",
      "\n",
      "    accuracy                           0.70        60\n",
      "   macro avg       0.59      0.63      0.60        60\n",
      "weighted avg       0.71      0.70      0.69        60\n",
      "\n",
      "[[ 1  0  0  0  3]\n",
      " [ 0  5  0  0  1]\n",
      " [ 0  0  2  0  2]\n",
      " [ 0  0  0 19  0]\n",
      " [ 3  1  4  4 15]]\n"
     ]
    },
    {
     "data": {
      "text/plain": [
       "array(['drugx', 'drugy', 'drugx', 'drugc', 'drugy', 'drugx', 'drugx',\n",
       "       'drugc', 'drugc', 'drugy', 'drugx', 'drugc', 'drugy', 'drugx',\n",
       "       'drugy', 'druga', 'drugx', 'drugx', 'drugb', 'druga', 'drugx',\n",
       "       'drugx', 'drugx', 'drugc', 'drugb', 'drugx', 'drugx', 'drugy',\n",
       "       'drugy', 'drugx', 'drugy', 'drugc', 'druga', 'drugy', 'drugy',\n",
       "       'drugy', 'drugy', 'drugy', 'drugy', 'drugx', 'drugy', 'drugy',\n",
       "       'drugy', 'drugx', 'drugb', 'drugy', 'drugx', 'drugx', 'drugy',\n",
       "       'drugb', 'drugy', 'drugx', 'drugy', 'druga', 'drugb', 'drugx',\n",
       "       'drugx', 'drugx', 'drugx', 'drugb'], dtype=object)"
      ]
     },
     "execution_count": 49,
     "metadata": {},
     "output_type": "execute_result"
    }
   ],
   "source": [
    "test(df_test,dv,rf)"
   ]
  },
  {
   "cell_type": "code",
   "execution_count": 60,
   "id": "2e3dd722",
   "metadata": {},
   "outputs": [],
   "source": [
    "test_1 = df_test.to_dict(orient='records')"
   ]
  },
  {
   "cell_type": "code",
   "execution_count": 61,
   "id": "11608760",
   "metadata": {},
   "outputs": [],
   "source": [
    "test_1 = {'sex': 'm',\n",
    "  'bp': 'normal',\n",
    "  'cholesterol': 'normal',\n",
    "  'age_cal': '60',\n",
    "  'chemical_cal': '10-20'}"
   ]
  },
  {
   "cell_type": "code",
   "execution_count": 62,
   "id": "813ef5a8",
   "metadata": {},
   "outputs": [],
   "source": [
    "X = dv.transform([test_1])\n",
    "y_pred = rf.predict_proba(X)[0, 1]"
   ]
  },
  {
   "cell_type": "code",
   "execution_count": 63,
   "id": "8233e421",
   "metadata": {},
   "outputs": [
    {
     "name": "stdout",
     "output_type": "stream",
     "text": [
      "input: {'sex': 'm', 'bp': 'normal', 'cholesterol': 'normal', 'age_cal': '60', 'chemical_cal': '10-20'}\n",
      "output: 0.006991534391534391\n"
     ]
    }
   ],
   "source": [
    "print('input:',test_1)\n",
    "print('output:', y_pred)"
   ]
  }
 ],
 "metadata": {
  "kernelspec": {
   "display_name": "Python 3 (ipykernel)",
   "language": "python",
   "name": "python3"
  },
  "language_info": {
   "codemirror_mode": {
    "name": "ipython",
    "version": 3
   },
   "file_extension": ".py",
   "mimetype": "text/x-python",
   "name": "python",
   "nbconvert_exporter": "python",
   "pygments_lexer": "ipython3",
   "version": "3.9.12"
  }
 },
 "nbformat": 4,
 "nbformat_minor": 5
}
